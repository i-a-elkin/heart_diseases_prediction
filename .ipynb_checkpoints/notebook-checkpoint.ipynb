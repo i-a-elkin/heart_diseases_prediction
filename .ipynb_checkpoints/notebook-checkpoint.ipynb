{
 "cells": [
  {
   "cell_type": "markdown",
   "id": "fd8222dc-73bb-482b-9722-f6bb28787ce9",
   "metadata": {},
   "source": [
    "## Обзор данных"
   ]
  },
  {
   "cell_type": "code",
   "execution_count": 1,
   "id": "a0130e32-7a19-41ed-9d70-1cefc444daac",
   "metadata": {},
   "outputs": [],
   "source": [
    "# !pip install sweetviz"
   ]
  },
  {
   "cell_type": "code",
   "execution_count": 2,
   "id": "be02f288",
   "metadata": {},
   "outputs": [],
   "source": [
    "# импортируем модули\n",
    "import pandas as pd\n",
    "# import sweetviz as sv\n",
    "import numpy as np\n",
    "from sklearn.manifold import TSNE\n",
    "import matplotlib.pyplot as plt\n",
    "from joblib import dump, load\n",
    "from sklearn.model_selection import cross_val_score, GridSearchCV\n",
    "from sklearn.ensemble import RandomForestClassifier, GradientBoostingClassifier\n",
    "from sklearn.metrics import roc_auc_score\n",
    "from sklearn.preprocessing import PolynomialFeatures"
   ]
  },
  {
   "cell_type": "code",
   "execution_count": 3,
   "id": "97f11ce7-5e3f-40d3-89db-a51a4bf6fd11",
   "metadata": {
    "tags": []
   },
   "outputs": [],
   "source": [
    "# введем константы\n",
    "QUANTILE_BOTTOM = 0.025\n",
    "QUANTILE_UPPER = 0.975\n",
    "SEED = 12345\n",
    "SCORE = 'roc_auc'"
   ]
  },
  {
   "cell_type": "code",
   "execution_count": 4,
   "id": "ffcd37a3",
   "metadata": {},
   "outputs": [
    {
     "data": {
      "text/html": [
       "<div>\n",
       "<style scoped>\n",
       "    .dataframe tbody tr th:only-of-type {\n",
       "        vertical-align: middle;\n",
       "    }\n",
       "\n",
       "    .dataframe tbody tr th {\n",
       "        vertical-align: top;\n",
       "    }\n",
       "\n",
       "    .dataframe thead th {\n",
       "        text-align: right;\n",
       "    }\n",
       "</style>\n",
       "<table border=\"1\" class=\"dataframe\">\n",
       "  <thead>\n",
       "    <tr style=\"text-align: right;\">\n",
       "      <th></th>\n",
       "      <th>age</th>\n",
       "      <th>gender</th>\n",
       "      <th>height</th>\n",
       "      <th>weight</th>\n",
       "      <th>ap_hi</th>\n",
       "      <th>ap_lo</th>\n",
       "      <th>cholesterol</th>\n",
       "      <th>gluc</th>\n",
       "      <th>smoke</th>\n",
       "      <th>alco</th>\n",
       "      <th>active</th>\n",
       "      <th>cardio</th>\n",
       "    </tr>\n",
       "    <tr>\n",
       "      <th>id</th>\n",
       "      <th></th>\n",
       "      <th></th>\n",
       "      <th></th>\n",
       "      <th></th>\n",
       "      <th></th>\n",
       "      <th></th>\n",
       "      <th></th>\n",
       "      <th></th>\n",
       "      <th></th>\n",
       "      <th></th>\n",
       "      <th></th>\n",
       "      <th></th>\n",
       "    </tr>\n",
       "  </thead>\n",
       "  <tbody>\n",
       "    <tr>\n",
       "      <th>0</th>\n",
       "      <td>18393</td>\n",
       "      <td>2</td>\n",
       "      <td>168</td>\n",
       "      <td>62.0</td>\n",
       "      <td>110</td>\n",
       "      <td>80</td>\n",
       "      <td>1</td>\n",
       "      <td>1</td>\n",
       "      <td>0</td>\n",
       "      <td>0</td>\n",
       "      <td>1</td>\n",
       "      <td>0</td>\n",
       "    </tr>\n",
       "    <tr>\n",
       "      <th>1</th>\n",
       "      <td>20228</td>\n",
       "      <td>1</td>\n",
       "      <td>156</td>\n",
       "      <td>85.0</td>\n",
       "      <td>140</td>\n",
       "      <td>90</td>\n",
       "      <td>3</td>\n",
       "      <td>1</td>\n",
       "      <td>0</td>\n",
       "      <td>0</td>\n",
       "      <td>1</td>\n",
       "      <td>1</td>\n",
       "    </tr>\n",
       "    <tr>\n",
       "      <th>2</th>\n",
       "      <td>18857</td>\n",
       "      <td>1</td>\n",
       "      <td>165</td>\n",
       "      <td>64.0</td>\n",
       "      <td>130</td>\n",
       "      <td>70</td>\n",
       "      <td>3</td>\n",
       "      <td>1</td>\n",
       "      <td>0</td>\n",
       "      <td>0</td>\n",
       "      <td>0</td>\n",
       "      <td>1</td>\n",
       "    </tr>\n",
       "    <tr>\n",
       "      <th>3</th>\n",
       "      <td>17623</td>\n",
       "      <td>2</td>\n",
       "      <td>169</td>\n",
       "      <td>82.0</td>\n",
       "      <td>150</td>\n",
       "      <td>100</td>\n",
       "      <td>1</td>\n",
       "      <td>1</td>\n",
       "      <td>0</td>\n",
       "      <td>0</td>\n",
       "      <td>1</td>\n",
       "      <td>1</td>\n",
       "    </tr>\n",
       "    <tr>\n",
       "      <th>4</th>\n",
       "      <td>17474</td>\n",
       "      <td>1</td>\n",
       "      <td>156</td>\n",
       "      <td>56.0</td>\n",
       "      <td>100</td>\n",
       "      <td>60</td>\n",
       "      <td>1</td>\n",
       "      <td>1</td>\n",
       "      <td>0</td>\n",
       "      <td>0</td>\n",
       "      <td>0</td>\n",
       "      <td>0</td>\n",
       "    </tr>\n",
       "  </tbody>\n",
       "</table>\n",
       "</div>"
      ],
      "text/plain": [
       "      age  gender  height  weight  ap_hi  ap_lo  cholesterol  gluc  smoke  \\\n",
       "id                                                                          \n",
       "0   18393       2     168    62.0    110     80            1     1      0   \n",
       "1   20228       1     156    85.0    140     90            3     1      0   \n",
       "2   18857       1     165    64.0    130     70            3     1      0   \n",
       "3   17623       2     169    82.0    150    100            1     1      0   \n",
       "4   17474       1     156    56.0    100     60            1     1      0   \n",
       "\n",
       "    alco  active  cardio  \n",
       "id                        \n",
       "0      0       1       0  \n",
       "1      0       1       1  \n",
       "2      0       0       1  \n",
       "3      0       1       1  \n",
       "4      0       0       0  "
      ]
     },
     "execution_count": 4,
     "metadata": {},
     "output_type": "execute_result"
    }
   ],
   "source": [
    "train = pd.read_csv(\"datasets/train.csv\", index_col='id')\n",
    "test = pd.read_csv(\"datasets/test.csv\", index_col='id')\n",
    "sample_submission = pd.read_csv(\"datasets/sample_submission.csv\")\n",
    "train.head()"
   ]
  },
  {
   "cell_type": "code",
   "execution_count": 5,
   "id": "8522f3b0",
   "metadata": {},
   "outputs": [
    {
     "name": "stdout",
     "output_type": "stream",
     "text": [
      "<class 'pandas.core.frame.DataFrame'>\n",
      "Int64Index: 70000 entries, 0 to 99999\n",
      "Data columns (total 12 columns):\n",
      " #   Column       Non-Null Count  Dtype  \n",
      "---  ------       --------------  -----  \n",
      " 0   age          70000 non-null  int64  \n",
      " 1   gender       70000 non-null  int64  \n",
      " 2   height       70000 non-null  int64  \n",
      " 3   weight       70000 non-null  float64\n",
      " 4   ap_hi        70000 non-null  int64  \n",
      " 5   ap_lo        70000 non-null  int64  \n",
      " 6   cholesterol  70000 non-null  int64  \n",
      " 7   gluc         70000 non-null  int64  \n",
      " 8   smoke        70000 non-null  int64  \n",
      " 9   alco         70000 non-null  int64  \n",
      " 10  active       70000 non-null  int64  \n",
      " 11  cardio       70000 non-null  int64  \n",
      "dtypes: float64(1), int64(11)\n",
      "memory usage: 6.9 MB\n"
     ]
    }
   ],
   "source": [
    "train.info()"
   ]
  },
  {
   "cell_type": "code",
   "execution_count": 6,
   "id": "85431e50",
   "metadata": {},
   "outputs": [],
   "source": [
    "num_cols = ['age', 'height', 'weight', 'ap_hi', 'ap_lo']\n",
    "cat_cols = ['gender', 'cholesterol', 'gluc']\n",
    "bool_cols = ['smoke', 'alco', 'active']\n",
    "target = 'cardio'"
   ]
  },
  {
   "cell_type": "code",
   "execution_count": 7,
   "id": "2c233ac9",
   "metadata": {},
   "outputs": [],
   "source": [
    "for col in cat_cols:\n",
    "    train[col] = train[col].astype('str')\n",
    "    test[col] = test[col].astype('str')\n",
    "    \n",
    "for col in bool_cols:\n",
    "    train[col] = train[col].astype('bool')\n",
    "    test[col] = test[col].astype('bool')"
   ]
  },
  {
   "cell_type": "code",
   "execution_count": 8,
   "id": "192ecd70",
   "metadata": {},
   "outputs": [
    {
     "name": "stdout",
     "output_type": "stream",
     "text": [
      "Describe Train Numerical Columns\n"
     ]
    },
    {
     "data": {
      "text/html": [
       "<div>\n",
       "<style scoped>\n",
       "    .dataframe tbody tr th:only-of-type {\n",
       "        vertical-align: middle;\n",
       "    }\n",
       "\n",
       "    .dataframe tbody tr th {\n",
       "        vertical-align: top;\n",
       "    }\n",
       "\n",
       "    .dataframe thead th {\n",
       "        text-align: right;\n",
       "    }\n",
       "</style>\n",
       "<table border=\"1\" class=\"dataframe\">\n",
       "  <thead>\n",
       "    <tr style=\"text-align: right;\">\n",
       "      <th></th>\n",
       "      <th>age</th>\n",
       "      <th>height</th>\n",
       "      <th>weight</th>\n",
       "      <th>ap_hi</th>\n",
       "      <th>ap_lo</th>\n",
       "    </tr>\n",
       "  </thead>\n",
       "  <tbody>\n",
       "    <tr>\n",
       "      <th>count</th>\n",
       "      <td>70000.000000</td>\n",
       "      <td>70000.000000</td>\n",
       "      <td>70000.000000</td>\n",
       "      <td>70000.000000</td>\n",
       "      <td>70000.000000</td>\n",
       "    </tr>\n",
       "    <tr>\n",
       "      <th>mean</th>\n",
       "      <td>19468.865814</td>\n",
       "      <td>164.359229</td>\n",
       "      <td>74.205690</td>\n",
       "      <td>128.817286</td>\n",
       "      <td>96.630414</td>\n",
       "    </tr>\n",
       "    <tr>\n",
       "      <th>std</th>\n",
       "      <td>2467.251667</td>\n",
       "      <td>8.210126</td>\n",
       "      <td>14.395757</td>\n",
       "      <td>154.011419</td>\n",
       "      <td>188.472530</td>\n",
       "    </tr>\n",
       "    <tr>\n",
       "      <th>min</th>\n",
       "      <td>10798.000000</td>\n",
       "      <td>55.000000</td>\n",
       "      <td>10.000000</td>\n",
       "      <td>-150.000000</td>\n",
       "      <td>-70.000000</td>\n",
       "    </tr>\n",
       "    <tr>\n",
       "      <th>25%</th>\n",
       "      <td>17664.000000</td>\n",
       "      <td>159.000000</td>\n",
       "      <td>65.000000</td>\n",
       "      <td>120.000000</td>\n",
       "      <td>80.000000</td>\n",
       "    </tr>\n",
       "    <tr>\n",
       "      <th>50%</th>\n",
       "      <td>19703.000000</td>\n",
       "      <td>165.000000</td>\n",
       "      <td>72.000000</td>\n",
       "      <td>120.000000</td>\n",
       "      <td>80.000000</td>\n",
       "    </tr>\n",
       "    <tr>\n",
       "      <th>75%</th>\n",
       "      <td>21327.000000</td>\n",
       "      <td>170.000000</td>\n",
       "      <td>82.000000</td>\n",
       "      <td>140.000000</td>\n",
       "      <td>90.000000</td>\n",
       "    </tr>\n",
       "    <tr>\n",
       "      <th>max</th>\n",
       "      <td>23713.000000</td>\n",
       "      <td>250.000000</td>\n",
       "      <td>200.000000</td>\n",
       "      <td>16020.000000</td>\n",
       "      <td>11000.000000</td>\n",
       "    </tr>\n",
       "  </tbody>\n",
       "</table>\n",
       "</div>"
      ],
      "text/plain": [
       "                age        height        weight         ap_hi         ap_lo\n",
       "count  70000.000000  70000.000000  70000.000000  70000.000000  70000.000000\n",
       "mean   19468.865814    164.359229     74.205690    128.817286     96.630414\n",
       "std     2467.251667      8.210126     14.395757    154.011419    188.472530\n",
       "min    10798.000000     55.000000     10.000000   -150.000000    -70.000000\n",
       "25%    17664.000000    159.000000     65.000000    120.000000     80.000000\n",
       "50%    19703.000000    165.000000     72.000000    120.000000     80.000000\n",
       "75%    21327.000000    170.000000     82.000000    140.000000     90.000000\n",
       "max    23713.000000    250.000000    200.000000  16020.000000  11000.000000"
      ]
     },
     "metadata": {},
     "output_type": "display_data"
    },
    {
     "name": "stdout",
     "output_type": "stream",
     "text": [
      "Describe Test Numerical Columns\n"
     ]
    },
    {
     "data": {
      "text/html": [
       "<div>\n",
       "<style scoped>\n",
       "    .dataframe tbody tr th:only-of-type {\n",
       "        vertical-align: middle;\n",
       "    }\n",
       "\n",
       "    .dataframe tbody tr th {\n",
       "        vertical-align: top;\n",
       "    }\n",
       "\n",
       "    .dataframe thead th {\n",
       "        text-align: right;\n",
       "    }\n",
       "</style>\n",
       "<table border=\"1\" class=\"dataframe\">\n",
       "  <thead>\n",
       "    <tr style=\"text-align: right;\">\n",
       "      <th></th>\n",
       "      <th>age</th>\n",
       "      <th>height</th>\n",
       "      <th>weight</th>\n",
       "      <th>ap_hi</th>\n",
       "      <th>ap_lo</th>\n",
       "    </tr>\n",
       "  </thead>\n",
       "  <tbody>\n",
       "    <tr>\n",
       "      <th>count</th>\n",
       "      <td>30000.000000</td>\n",
       "      <td>30000.000000</td>\n",
       "      <td>30000.000000</td>\n",
       "      <td>30000.000000</td>\n",
       "      <td>30000.000000</td>\n",
       "    </tr>\n",
       "    <tr>\n",
       "      <th>mean</th>\n",
       "      <td>19455.528400</td>\n",
       "      <td>164.322267</td>\n",
       "      <td>74.120615</td>\n",
       "      <td>130.271300</td>\n",
       "      <td>95.689000</td>\n",
       "    </tr>\n",
       "    <tr>\n",
       "      <th>std</th>\n",
       "      <td>2477.840922</td>\n",
       "      <td>8.213740</td>\n",
       "      <td>14.341540</td>\n",
       "      <td>212.501152</td>\n",
       "      <td>163.852598</td>\n",
       "    </tr>\n",
       "    <tr>\n",
       "      <th>min</th>\n",
       "      <td>8865.000000</td>\n",
       "      <td>50.000000</td>\n",
       "      <td>10.000000</td>\n",
       "      <td>-130.000000</td>\n",
       "      <td>-90.000000</td>\n",
       "    </tr>\n",
       "    <tr>\n",
       "      <th>25%</th>\n",
       "      <td>17658.000000</td>\n",
       "      <td>159.000000</td>\n",
       "      <td>65.000000</td>\n",
       "      <td>120.000000</td>\n",
       "      <td>80.000000</td>\n",
       "    </tr>\n",
       "    <tr>\n",
       "      <th>50%</th>\n",
       "      <td>19694.000000</td>\n",
       "      <td>165.000000</td>\n",
       "      <td>72.000000</td>\n",
       "      <td>120.000000</td>\n",
       "      <td>80.000000</td>\n",
       "    </tr>\n",
       "    <tr>\n",
       "      <th>75%</th>\n",
       "      <td>21320.000000</td>\n",
       "      <td>170.000000</td>\n",
       "      <td>82.000000</td>\n",
       "      <td>140.000000</td>\n",
       "      <td>90.000000</td>\n",
       "    </tr>\n",
       "    <tr>\n",
       "      <th>max</th>\n",
       "      <td>23705.000000</td>\n",
       "      <td>198.000000</td>\n",
       "      <td>183.000000</td>\n",
       "      <td>16020.000000</td>\n",
       "      <td>9100.000000</td>\n",
       "    </tr>\n",
       "  </tbody>\n",
       "</table>\n",
       "</div>"
      ],
      "text/plain": [
       "                age        height        weight         ap_hi         ap_lo\n",
       "count  30000.000000  30000.000000  30000.000000  30000.000000  30000.000000\n",
       "mean   19455.528400    164.322267     74.120615    130.271300     95.689000\n",
       "std     2477.840922      8.213740     14.341540    212.501152    163.852598\n",
       "min     8865.000000     50.000000     10.000000   -130.000000    -90.000000\n",
       "25%    17658.000000    159.000000     65.000000    120.000000     80.000000\n",
       "50%    19694.000000    165.000000     72.000000    120.000000     80.000000\n",
       "75%    21320.000000    170.000000     82.000000    140.000000     90.000000\n",
       "max    23705.000000    198.000000    183.000000  16020.000000   9100.000000"
      ]
     },
     "metadata": {},
     "output_type": "display_data"
    }
   ],
   "source": [
    "print('Describe Train Numerical Columns')\n",
    "display(train[num_cols].describe())\n",
    "print('Describe Test Numerical Columns')\n",
    "display(test.describe())"
   ]
  },
  {
   "cell_type": "code",
   "execution_count": 9,
   "id": "b8215443",
   "metadata": {},
   "outputs": [
    {
     "name": "stdout",
     "output_type": "stream",
     "text": [
      "Train Duplicates\n"
     ]
    },
    {
     "data": {
      "text/plain": [
       "24"
      ]
     },
     "metadata": {},
     "output_type": "display_data"
    },
    {
     "name": "stdout",
     "output_type": "stream",
     "text": [
      "Test Duplicates\n"
     ]
    },
    {
     "data": {
      "text/plain": [
       "6"
      ]
     },
     "metadata": {},
     "output_type": "display_data"
    }
   ],
   "source": [
    "print('Train Duplicates')\n",
    "display(train.duplicated().sum())\n",
    "print('Test Duplicates')\n",
    "display(test.duplicated().sum())"
   ]
  },
  {
   "cell_type": "markdown",
   "id": "563d0a1c",
   "metadata": {},
   "source": [
    "Предварительный анализ данных показал, что данные содержат дубликаты, выбросы и отрицательные значения. \n",
    "По этой причине необходимо провести предварительное преобразование:\n",
    "- удалить дубликаты в тренировачном датасете (в тестовом не удалять)\n",
    "- взять абсолютные значения для данных давления ['ap_hi', 'ap_lo'] в обоих наборах данных\n",
    "- вычислить 2.5% и 97.5% квантили для всех количественных признаков тренировочного датасета. Данные ниже нижнего и выше верхнего квантилей приравнять к их значениям. Сделать это для тренировочного и тестового датасетов (использовать значения полученные на тренировочном наборе данных)\n",
    "- значения из колонки 'age' разделим на 365 и поменяем тип данных на целочисленный"
   ]
  },
  {
   "cell_type": "code",
   "execution_count": 10,
   "id": "31e59c43",
   "metadata": {},
   "outputs": [],
   "source": [
    "train = train.drop_duplicates()\n",
    "\n",
    "train_out_corr = train.copy()\n",
    "test_out_corr = test.copy()\n",
    "\n",
    "train_out_corr[['ap_hi', 'ap_lo']] = np.abs(train_out_corr[['ap_hi', 'ap_lo']])\n",
    "test_out_corr[['ap_hi', 'ap_lo']] = np.abs(test_out_corr[['ap_hi', 'ap_lo']])\n",
    "\n",
    "for i in num_cols:\n",
    "\n",
    "    qb = train[i].quantile(QUANTILE_BOTTOM)\n",
    "    qu = train[i].quantile(QUANTILE_UPPER)\n",
    "\n",
    "    def outlier_correction(col):\n",
    "        if col < qb:\n",
    "            return qb\n",
    "        elif col > qu:\n",
    "            return qu\n",
    "        else:\n",
    "            return col\n",
    "\n",
    "    train_out_corr[i] = train_out_corr[i].apply(outlier_correction).astype('int64')\n",
    "    test_out_corr[i] = test_out_corr[i].apply(outlier_correction).astype('int64')\n",
    "    \n",
    "train_out_corr['age'] = (train_out_corr['age'] / 365).astype('int64')\n",
    "test_out_corr['age'] = (test_out_corr['age'] / 365).astype('int64')"
   ]
  },
  {
   "cell_type": "markdown",
   "id": "b78b51d9-8de7-46cd-b643-016341eb549c",
   "metadata": {},
   "source": [
    "## Исследовательский анализ данных"
   ]
  },
  {
   "cell_type": "markdown",
   "id": "e5cacd4b",
   "metadata": {},
   "source": [
    "Проведем исследовательский анализ данных с помощью пакета sweetviz"
   ]
  },
  {
   "cell_type": "code",
   "execution_count": 11,
   "id": "86c171d6",
   "metadata": {},
   "outputs": [],
   "source": [
    "# report = sv.compare([train_out_corr, 'heart_diseases_train'], [test_out_corr, 'heart_diseases_test'], target_feat=target)\n",
    "# report.show_notebook()"
   ]
  },
  {
   "cell_type": "markdown",
   "id": "ec69a785",
   "metadata": {},
   "source": [
    "После исследовательского анализа данных можно видеть, что наибольшее влияние на целевой признак оказывают возраст, вес, давление. Наиболее скоррелированными признаками являются рост и пол, диастолическое и систалическое давление."
   ]
  },
  {
   "cell_type": "code",
   "execution_count": 12,
   "id": "fca61c9d",
   "metadata": {},
   "outputs": [],
   "source": [
    "# m = TSNE(learning_rate=50, n_jobs=-1)\n",
    "# tsne_features = m.fit_transform(train_out_corr[num_cols])\n",
    "# tsne_features = pd.DataFrame(tsne_features, columns=['x_tsne', 'y_tsne'])\n",
    "# tsne_features.to_csv('tsne/tsne_features_lr50.csv')"
   ]
  },
  {
   "cell_type": "code",
   "execution_count": 13,
   "id": "2275c49f",
   "metadata": {},
   "outputs": [
    {
     "data": {
      "image/png": "[encoded data removed]",
      "text/plain": [
       "<Figure size 432x288 with 1 Axes>"
      ]
     },
     "metadata": {
      "needs_background": "light"
     },
     "output_type": "display_data"
    },
    {
     "data": {
      "image/png": "[encoded data removed]",
      "text/plain": [
       "<Figure size 432x288 with 1 Axes>"
      ]
     },
     "metadata": {
      "needs_background": "light"
     },
     "output_type": "display_data"
    },
    {
     "data": {
      "image/png": "[encoded data removed]",
      "text/plain": [
       "<Figure size 432x288 with 1 Axes>"
      ]
     },
     "metadata": {
      "needs_background": "light"
     },
     "output_type": "display_data"
    }
   ],
   "source": [
    "tsne_features = pd.read_csv('tsne/tsne_features_lr50.csv')\n",
    "\n",
    "for col in ['ap_hi', 'weight', 'age']:\n",
    "    plt.scatter(x=tsne_features['x_tsne'], y=tsne_features['y_tsne'], \n",
    "                c=train_out_corr[[col]].values, alpha=0.5,\n",
    "                cmap='turbo')\n",
    "    plt.title(col)\n",
    "    plt.xlabel('x_tsne')\n",
    "    plt.ylabel('y_tsne')\n",
    "    plt.show()"
   ]
  },
  {
   "cell_type": "markdown",
   "id": "8c8881a9-a06c-43cd-b5b4-8b4109c40613",
   "metadata": {},
   "source": [
    "Результаты кластеризации показывают, что наилучшее разделение данных удается получить с использованием данных о давлении (систолическое и диастолическое дают одинаковую картину) пациентов, вес и возраст пациентов дают дополнительную информацию о распределении данных внутри групп с одинаковым давлением."
   ]
  },
  {
   "cell_type": "markdown",
   "id": "38eb8346-57c5-46fb-8d05-b50c291ab230",
   "metadata": {},
   "source": [
    "## Модель случайного леса"
   ]
  },
  {
   "cell_type": "code",
   "execution_count": 14,
   "id": "3f167d6c-c73e-4cb0-b40e-169fc9d1fc5a",
   "metadata": {},
   "outputs": [
    {
     "name": "stdout",
     "output_type": "stream",
     "text": [
      "Среднее значение roc_auc_score для всех признаков:\n",
      "RandomForestClassifier\n",
      "0.765\n"
     ]
    }
   ],
   "source": [
    "X_train = train_out_corr.drop('cardio', axis=1)\n",
    "y_train = train_out_corr['cardio']\n",
    "\n",
    "cv_scores = cross_val_score(estimator=RandomForestClassifier(random_state=SEED), \n",
    "                            X=X_train, y=y_train, \n",
    "                            scoring=SCORE, \n",
    "                            cv=5, \n",
    "                            n_jobs=-1)\n",
    "print(\"Среднее значение {}_score для всех признаков:\".format(SCORE))\n",
    "print(\"RandomForestClassifier\")\n",
    "print(np.mean(cv_scores).round(3))"
   ]
  },
  {
   "cell_type": "markdown",
   "id": "6aa3605b-bc2d-4b4a-8c43-c0a5c793098e",
   "metadata": {},
   "source": [
    "Произведем отбор признаков, дающих наибольшее значение метрики ROC-AUC:\n",
    "- вычислим метрику для модели случайного леса по умолчанию\n",
    "- выберем один признак дающий наибольшее значение метрики\n",
    "- будем добавлять по одному признаку который дает наибольшее значение метрики\n",
    "- построим график зависимости метрики от количества признаков\n",
    "- выберем наименьшее количество признаков при условии наибольшего значения метрики"
   ]
  },
  {
   "cell_type": "markdown",
   "id": "1c6942f9-68c3-4376-ae0b-1edfc7cd7210",
   "metadata": {},
   "source": [
    "Создадим функцию для отбора признаков."
   ]
  },
  {
   "cell_type": "code",
   "execution_count": 15,
   "id": "a9106e72-36c6-47e8-bf49-5f5a4da79914",
   "metadata": {},
   "outputs": [],
   "source": [
    "def feature_search(X, y, candidate_features, used_features,\n",
    "                  estimator, scorer):\n",
    "    '''\n",
    "    Функция принимает на вход признаки и целевой признак исследуемого датасета,\n",
    "    список признаков для поиска и список используемых признаков,\n",
    "    модель и метрику для отбора признаков.\n",
    "    Ищет признак с наибольшим значением метрики.\n",
    "    Выводит кортеж первый элемент которого найденный признак, \n",
    "    а второй значение метрики.\n",
    "    '''\n",
    "    best_feature = None\n",
    "    best_roc_auc = -1\n",
    "    features_score_dict = {}\n",
    "    \n",
    "    for f in candidate_features:\n",
    "        cv_scores = cross_val_score(estimator=estimator, \n",
    "                                    X=X[current_features + [f]], \n",
    "                                    y=y, \n",
    "                                    scoring=scorer, \n",
    "                                    cv=5, \n",
    "                                    n_jobs=-1)\n",
    "        if np.mean(cv_scores) > best_roc_auc:\n",
    "            best_roc_auc = np.mean(cv_scores)\n",
    "            best_feature = f\n",
    "    \n",
    "    return (best_feature, best_roc_auc)"
   ]
  },
  {
   "cell_type": "markdown",
   "id": "9cdaa5c4-d499-4866-9018-ea8d69d9b632",
   "metadata": {},
   "source": [
    "Используем функцию чтобы отобрать признаки."
   ]
  },
  {
   "cell_type": "code",
   "execution_count": 16,
   "id": "c1e6fd1a-a206-4ae3-b6f6-fb7d541ff6be",
   "metadata": {},
   "outputs": [],
   "source": [
    "# features = num_cols + cat_cols + bool_cols\n",
    "# current_features = []\n",
    "# results_features = []\n",
    "# results_auc = []\n",
    "\n",
    "# while len(features) !=0:\n",
    "#     best_feature, best_auc = feature_search(X=X_train, y=y_train,        \n",
    "#                                             candidate_features=features, \n",
    "#                                             used_features=current_features,\n",
    "#                                             estimator=RandomForestClassifier(random_state=SEED),\n",
    "#                                             scorer=SCORE)\n",
    "#     results_features.append(current_features + [best_feature])\n",
    "#     results_auc.append(best_auc)\n",
    "#     features.remove(best_feature)\n",
    "#     current_features.append(best_feature)\n",
    "\n",
    "# feature_selection_df = pd.DataFrame([results_features, results_auc]).transpose()\n",
    "# feature_selection_df.columns=['features', 'roc-auc']\n",
    "# feature_selection_df['n_features'] = feature_selection_df['features'].apply(len)\n",
    "# feature_selection_df.to_csv('feature_selection/forest_auc.csv')"
   ]
  },
  {
   "cell_type": "code",
   "execution_count": 17,
   "id": "f80584aa-e588-430e-8f37-be5716fcf2fa",
   "metadata": {},
   "outputs": [
    {
     "data": {
      "text/html": [
       "<div>\n",
       "<style scoped>\n",
       "    .dataframe tbody tr th:only-of-type {\n",
       "        vertical-align: middle;\n",
       "    }\n",
       "\n",
       "    .dataframe tbody tr th {\n",
       "        vertical-align: top;\n",
       "    }\n",
       "\n",
       "    .dataframe thead th {\n",
       "        text-align: right;\n",
       "    }\n",
       "</style>\n",
       "<table border=\"1\" class=\"dataframe\">\n",
       "  <thead>\n",
       "    <tr style=\"text-align: right;\">\n",
       "      <th></th>\n",
       "      <th>features</th>\n",
       "      <th>roc-auc</th>\n",
       "    </tr>\n",
       "    <tr>\n",
       "      <th>n_features</th>\n",
       "      <th></th>\n",
       "      <th></th>\n",
       "    </tr>\n",
       "  </thead>\n",
       "  <tbody>\n",
       "    <tr>\n",
       "      <th>1</th>\n",
       "      <td>['ap_hi']</td>\n",
       "      <td>0.75</td>\n",
       "    </tr>\n",
       "    <tr>\n",
       "      <th>2</th>\n",
       "      <td>['ap_hi', 'age']</td>\n",
       "      <td>0.78</td>\n",
       "    </tr>\n",
       "    <tr>\n",
       "      <th>3</th>\n",
       "      <td>['ap_hi', 'age', 'cholesterol']</td>\n",
       "      <td>0.79</td>\n",
       "    </tr>\n",
       "    <tr>\n",
       "      <th>4</th>\n",
       "      <td>['ap_hi', 'age', 'cholesterol', 'active']</td>\n",
       "      <td>0.79</td>\n",
       "    </tr>\n",
       "    <tr>\n",
       "      <th>5</th>\n",
       "      <td>['ap_hi', 'age', 'cholesterol', 'active', 'alco']</td>\n",
       "      <td>0.79</td>\n",
       "    </tr>\n",
       "  </tbody>\n",
       "</table>\n",
       "</div>"
      ],
      "text/plain": [
       "                                                     features  roc-auc\n",
       "n_features                                                            \n",
       "1                                                   ['ap_hi']     0.75\n",
       "2                                            ['ap_hi', 'age']     0.78\n",
       "3                             ['ap_hi', 'age', 'cholesterol']     0.79\n",
       "4                   ['ap_hi', 'age', 'cholesterol', 'active']     0.79\n",
       "5           ['ap_hi', 'age', 'cholesterol', 'active', 'alco']     0.79"
      ]
     },
     "execution_count": 17,
     "metadata": {},
     "output_type": "execute_result"
    }
   ],
   "source": [
    "feature_selection_df = pd.read_csv('feature_selection/forest_auc.csv', index_col=0)\n",
    "feature_selection_df.index = feature_selection_df['n_features']\n",
    "feature_selection_df['roc-auc'] = feature_selection_df['roc-auc'].round(2)\n",
    "feature_selection_df[['features', 'roc-auc']].head(5)"
   ]
  },
  {
   "cell_type": "code",
   "execution_count": 18,
   "id": "6abf592a-05f8-4a5b-840f-ca928bef0ca8",
   "metadata": {},
   "outputs": [
    {
     "data": {
      "image/png": "[encoded data removed]",
      "text/plain": [
       "<Figure size 432x288 with 1 Axes>"
      ]
     },
     "metadata": {
      "needs_background": "light"
     },
     "output_type": "display_data"
    }
   ],
   "source": [
    "feature_selection_df.plot('n_features', 'roc-auc')\n",
    "plt.title('Random Forest Feature Selection')\n",
    "plt.show()"
   ]
  },
  {
   "cell_type": "markdown",
   "id": "ff950155-30c4-436e-8045-2625e65c6111",
   "metadata": {},
   "source": [
    "Будем использовать 5 отобранных признаков, т.к. с их увеличением метрика начинает непрерывно снижаться."
   ]
  },
  {
   "cell_type": "code",
   "execution_count": 19,
   "id": "74c8ba29-bfdc-489f-b4bb-df278346c654",
   "metadata": {},
   "outputs": [],
   "source": [
    "features_select = ['ap_hi', 'age', 'cholesterol', 'active', 'alco']"
   ]
  },
  {
   "cell_type": "markdown",
   "id": "0f11abde-d05f-4a3b-ab58-d3ccf40354b7",
   "metadata": {},
   "source": [
    "Подберем гиперпараметры модели используя отобранные признаки."
   ]
  },
  {
   "cell_type": "code",
   "execution_count": 20,
   "id": "12b9cd31-ac7b-48dc-9fb4-e9852c6f0c18",
   "metadata": {},
   "outputs": [],
   "source": [
    "# params_forest = {'n_estimators': [100, 200, 300, 400, 500],\n",
    "#                  'max_depth': [3, 5, 7, 9, 11],\n",
    "#                  'min_samples_leaf': [5, 6, 7, 8, 9, 10, 11],\n",
    "#                  'min_samples_split': [2, 3, 4, 5]}\n",
    "\n",
    "# grid_forest = GridSearchCV(estimator=RandomForestClassifier(random_state=SEED),\n",
    "#                            param_grid=params_forest,\n",
    "#                            scoring=SCORE,\n",
    "#                            cv=5,\n",
    "#                            n_jobs=-1,\n",
    "#                            verbose=1)\n",
    "# grid_forest.fit(X_train[features_select], y_train)\n",
    "# best_forest = grid_forest.best_estimator_\n",
    "# dump(best_forest, \"models/best_forest.joblib\")\n",
    "\n",
    "# print(\"Гиперпараметры лучшей модели\")\n",
    "# print(grid_forest.best_params_)"
   ]
  },
  {
   "cell_type": "markdown",
   "id": "a008d3ab-d865-4c45-9550-6a74bb81e595",
   "metadata": {},
   "source": [
    "Оценим качество найденной модели."
   ]
  },
  {
   "cell_type": "code",
   "execution_count": 21,
   "id": "579d0391-59a7-4cb9-b328-7ae7258949ef",
   "metadata": {},
   "outputs": [
    {
     "name": "stdout",
     "output_type": "stream",
     "text": [
      "* Модель:     \n",
      "RandomForestClassifier(max_depth=7, min_samples_leaf=9, n_estimators=300,\n",
      "                       random_state=12345)     \n",
      "* roc_auc_score на обучающей выборке:     \n",
      "Кросс-валидация     \n",
      "[0.7927552  0.80085399 0.80188002 0.79751207 0.79219832]     \n",
      "Среднее значение     \n",
      "0.7970399186311843\n"
     ]
    }
   ],
   "source": [
    "best_forest = load(\"models/best_forest.joblib\")\n",
    "cv_forest = cross_val_score(estimator=best_forest, \n",
    "                            X=X_train[features_select], y=y_train, \n",
    "                            scoring=SCORE, \n",
    "                            cv=5, \n",
    "                            n_jobs=-1)\n",
    "print(\"* Модель:\\\n",
    "     \\n{}\\\n",
    "     \\n* {}_score на обучающей выборке:\\\n",
    "     \\nКросс-валидация\\\n",
    "     \\n{}\\\n",
    "     \\nСреднее значение\\\n",
    "     \\n{}\"\n",
    "      .format(best_forest,\n",
    "              SCORE,\n",
    "              cv_forest, \n",
    "              np.mean(cv_forest)))"
   ]
  },
  {
   "cell_type": "markdown",
   "id": "4c62c598-25c8-4f0a-b8d3-4a558be3d5dc",
   "metadata": {},
   "source": [
    "Сделаем предсказание и сохраним в файл для отправки"
   ]
  },
  {
   "cell_type": "code",
   "execution_count": 22,
   "id": "730fa860-83cd-43be-a04d-29e99cdab35c",
   "metadata": {},
   "outputs": [],
   "source": [
    "sample_submission_1 = sample_submission.copy()\n",
    "sample_submission_1['cardio'] = best_forest.predict_proba(test_out_corr[features_select])[:, 1]\n",
    "sample_submission_1.to_csv('datasets/sample_submission_1.csv', index=False)"
   ]
  },
  {
   "cell_type": "code",
   "execution_count": 23,
   "id": "8d0c0e28-ba58-4086-9333-83b068cd98b2",
   "metadata": {},
   "outputs": [
    {
     "data": {
      "text/html": [
       "<div>\n",
       "<style scoped>\n",
       "    .dataframe tbody tr th:only-of-type {\n",
       "        vertical-align: middle;\n",
       "    }\n",
       "\n",
       "    .dataframe tbody tr th {\n",
       "        vertical-align: top;\n",
       "    }\n",
       "\n",
       "    .dataframe thead th {\n",
       "        text-align: right;\n",
       "    }\n",
       "</style>\n",
       "<table border=\"1\" class=\"dataframe\">\n",
       "  <thead>\n",
       "    <tr style=\"text-align: right;\">\n",
       "      <th></th>\n",
       "      <th>id</th>\n",
       "      <th>cardio</th>\n",
       "    </tr>\n",
       "  </thead>\n",
       "  <tbody>\n",
       "    <tr>\n",
       "      <th>0</th>\n",
       "      <td>5</td>\n",
       "      <td>0.499454</td>\n",
       "    </tr>\n",
       "    <tr>\n",
       "      <th>1</th>\n",
       "      <td>6</td>\n",
       "      <td>0.502761</td>\n",
       "    </tr>\n",
       "    <tr>\n",
       "      <th>2</th>\n",
       "      <td>7</td>\n",
       "      <td>0.446796</td>\n",
       "    </tr>\n",
       "    <tr>\n",
       "      <th>3</th>\n",
       "      <td>10</td>\n",
       "      <td>0.503563</td>\n",
       "    </tr>\n",
       "    <tr>\n",
       "      <th>4</th>\n",
       "      <td>11</td>\n",
       "      <td>0.216470</td>\n",
       "    </tr>\n",
       "  </tbody>\n",
       "</table>\n",
       "</div>"
      ],
      "text/plain": [
       "   id    cardio\n",
       "0   5  0.499454\n",
       "1   6  0.502761\n",
       "2   7  0.446796\n",
       "3  10  0.503563\n",
       "4  11  0.216470"
      ]
     },
     "execution_count": 23,
     "metadata": {},
     "output_type": "execute_result"
    }
   ],
   "source": [
    "pd.read_csv('datasets/sample_submission_1.csv').head()"
   ]
  },
  {
   "cell_type": "markdown",
   "id": "4bf7c5da-01d5-40d2-a7dc-266defea9262",
   "metadata": {},
   "source": [
    "Результат на тестовой выборке (Kaggle): 0.80316"
   ]
  },
  {
   "cell_type": "markdown",
   "id": "853c069d-8cb2-483c-bb30-d45b7ca95beb",
   "metadata": {},
   "source": [
    "## Модель градиентного бустинга"
   ]
  },
  {
   "cell_type": "markdown",
   "id": "b3248d81-1ca5-4f92-9d46-628566b56cbb",
   "metadata": {},
   "source": [
    "Проверим какое качество модели дает модель градиентного бустинга по умолчанию."
   ]
  },
  {
   "cell_type": "code",
   "execution_count": 24,
   "id": "f0782ff4-53e5-4b89-98ba-55845df4040e",
   "metadata": {},
   "outputs": [
    {
     "name": "stdout",
     "output_type": "stream",
     "text": [
      "Среднее значение roc_auc_score для всех признаков:\n",
      "GradientBoostingClassifier\n",
      "0.803\n"
     ]
    }
   ],
   "source": [
    "cv_scores = cross_val_score(estimator=GradientBoostingClassifier(random_state=SEED), \n",
    "                            X=X_train, y=y_train, \n",
    "                            scoring=SCORE, \n",
    "                            cv=5, \n",
    "                            n_jobs=-1)\n",
    "print(\"Среднее значение {}_score для всех признаков:\".format(SCORE))\n",
    "print(\"GradientBoostingClassifier\")\n",
    "print(np.mean(cv_scores).round(3))"
   ]
  },
  {
   "cell_type": "markdown",
   "id": "5a203546-c106-43be-819c-fbc5cbe39cab",
   "metadata": {},
   "source": [
    "Можно видеть, что качество предсказаний заметно улучшилось по сравнению со случайным лесом. Проведем отбор признаков с использованием градиентного бустинга."
   ]
  },
  {
   "cell_type": "code",
   "execution_count": 25,
   "id": "e673f74c-d4e2-4860-8c1e-278246b85688",
   "metadata": {},
   "outputs": [],
   "source": [
    "# features = num_cols + cat_cols + bool_cols\n",
    "# current_features = []\n",
    "# results_features = []\n",
    "# results_auc = []\n",
    "\n",
    "# while len(features) !=0:\n",
    "#     best_feature, best_auc = feature_search(X=X_train, y=y_train,        \n",
    "#                                             candidate_features=features, \n",
    "#                                             used_features=current_features,\n",
    "#                                             estimator=GradientBoostingClassifier(random_state=SEED),\n",
    "#                                             scorer=SCORE)\n",
    "#     results_features.append(current_features + [best_feature])\n",
    "#     results_auc.append(best_auc)\n",
    "#     features.remove(best_feature)\n",
    "#     current_features.append(best_feature)\n",
    "\n",
    "# feature_selection_df = pd.DataFrame([results_features, results_auc]).transpose()\n",
    "# feature_selection_df.columns=['features', 'roc-auc']\n",
    "# feature_selection_df['n_features'] = feature_selection_df['features'].apply(len)\n",
    "# feature_selection_df.to_csv('feature_selection/boosting_auc.csv', index=False)"
   ]
  },
  {
   "cell_type": "code",
   "execution_count": 26,
   "id": "fa848315-a040-4ce2-b227-1c8faf51a7d0",
   "metadata": {},
   "outputs": [
    {
     "data": {
      "text/html": [
       "<div>\n",
       "<style scoped>\n",
       "    .dataframe tbody tr th:only-of-type {\n",
       "        vertical-align: middle;\n",
       "    }\n",
       "\n",
       "    .dataframe tbody tr th {\n",
       "        vertical-align: top;\n",
       "    }\n",
       "\n",
       "    .dataframe thead th {\n",
       "        text-align: right;\n",
       "    }\n",
       "</style>\n",
       "<table border=\"1\" class=\"dataframe\">\n",
       "  <thead>\n",
       "    <tr style=\"text-align: right;\">\n",
       "      <th></th>\n",
       "      <th>features</th>\n",
       "      <th>roc-auc</th>\n",
       "    </tr>\n",
       "    <tr>\n",
       "      <th>n_features</th>\n",
       "      <th></th>\n",
       "      <th></th>\n",
       "    </tr>\n",
       "  </thead>\n",
       "  <tbody>\n",
       "    <tr>\n",
       "      <th>1</th>\n",
       "      <td>['ap_hi']</td>\n",
       "      <td>0.752</td>\n",
       "    </tr>\n",
       "    <tr>\n",
       "      <th>2</th>\n",
       "      <td>['ap_hi', 'age']</td>\n",
       "      <td>0.785</td>\n",
       "    </tr>\n",
       "    <tr>\n",
       "      <th>3</th>\n",
       "      <td>['ap_hi', 'age', 'cholesterol']</td>\n",
       "      <td>0.796</td>\n",
       "    </tr>\n",
       "    <tr>\n",
       "      <th>4</th>\n",
       "      <td>['ap_hi', 'age', 'cholesterol', 'weight']</td>\n",
       "      <td>0.799</td>\n",
       "    </tr>\n",
       "    <tr>\n",
       "      <th>5</th>\n",
       "      <td>['ap_hi', 'age', 'cholesterol', 'weight', 'ap_...</td>\n",
       "      <td>0.800</td>\n",
       "    </tr>\n",
       "    <tr>\n",
       "      <th>6</th>\n",
       "      <td>['ap_hi', 'age', 'cholesterol', 'weight', 'ap_...</td>\n",
       "      <td>0.801</td>\n",
       "    </tr>\n",
       "  </tbody>\n",
       "</table>\n",
       "</div>"
      ],
      "text/plain": [
       "                                                     features  roc-auc\n",
       "n_features                                                            \n",
       "1                                                   ['ap_hi']    0.752\n",
       "2                                            ['ap_hi', 'age']    0.785\n",
       "3                             ['ap_hi', 'age', 'cholesterol']    0.796\n",
       "4                   ['ap_hi', 'age', 'cholesterol', 'weight']    0.799\n",
       "5           ['ap_hi', 'age', 'cholesterol', 'weight', 'ap_...    0.800\n",
       "6           ['ap_hi', 'age', 'cholesterol', 'weight', 'ap_...    0.801"
      ]
     },
     "execution_count": 26,
     "metadata": {},
     "output_type": "execute_result"
    }
   ],
   "source": [
    "feature_selection_b = pd.read_csv('feature_selection/boosting_auc.csv')\n",
    "feature_selection_b.index = feature_selection_b['n_features']\n",
    "feature_selection_b['roc-auc'] = feature_selection_b['roc-auc'].round(3)\n",
    "feature_selection_b[['features', 'roc-auc']].head(6)"
   ]
  },
  {
   "cell_type": "code",
   "execution_count": 27,
   "id": "056356b2-f351-46a9-92ed-85f6ee68df99",
   "metadata": {},
   "outputs": [
    {
     "data": {
      "image/png": "[encoded data removed]",
      "text/plain": [
       "<Figure size 432x288 with 1 Axes>"
      ]
     },
     "metadata": {
      "needs_background": "light"
     },
     "output_type": "display_data"
    }
   ],
   "source": [
    "feature_selection_b.plot('n_features', 'roc-auc')\n",
    "plt.title('Gradient Boosting Feature Selection')\n",
    "plt.show()"
   ]
  },
  {
   "cell_type": "markdown",
   "id": "7320b2e4-2013-4b48-84cd-fee2ecdc5e40",
   "metadata": {},
   "source": [
    "Наибольшая скорость роста метрики наблюдается до 6 признаков, после чего метрика изменяется намного медленнее (при увеличении количества признаков с 1 по 6 метрика увеличилась на 0,05, а при увеличении их количества с 7 по 11 на 0,002). Сократим количество признаков для повышения обобщающей способности модели."
   ]
  },
  {
   "cell_type": "code",
   "execution_count": 28,
   "id": "d66853e8-2c1e-48cd-8328-532b5a9b9a5f",
   "metadata": {},
   "outputs": [],
   "source": [
    "features_select_b = ['ap_hi', 'age', 'cholesterol', 'weight', 'ap_lo', 'active']"
   ]
  },
  {
   "cell_type": "markdown",
   "id": "a209e835-0710-415b-8015-8969f759cfc2",
   "metadata": {},
   "source": [
    "Подберем гиперпараметры модели используя отобранные признаки."
   ]
  },
  {
   "cell_type": "code",
   "execution_count": 29,
   "id": "1aaaedad-cfa5-4e93-aae9-d282158f20f4",
   "metadata": {},
   "outputs": [],
   "source": [
    "# params_boosting = {'learning_rate': [0.01, 0.1, 0.2],\n",
    "#                    'n_estimators': [100, 150, 200],\n",
    "#                    'max_depth': [3, 4, 5],\n",
    "#                    'min_samples_leaf': [6, 7, 8],\n",
    "#                    'min_samples_split': [2, 3]}\n",
    "\n",
    "# grid_boosting = GridSearchCV(estimator=GradientBoostingClassifier(random_state=SEED),\n",
    "#                            param_grid=params_boosting,\n",
    "#                            scoring=SCORE,\n",
    "#                            cv=5,\n",
    "#                            n_jobs=-1,\n",
    "#                            verbose=1)\n",
    "# grid_boosting.fit(X_train[features_select_b], y_train)\n",
    "# best_boosting = grid_boosting.best_estimator_\n",
    "# dump(best_boosting, \"models/best_boosting.joblib\")\n",
    "\n",
    "# print(\"Гиперпараметры лучшей модели\")\n",
    "# print(grid_boosting.best_params_)"
   ]
  },
  {
   "cell_type": "code",
   "execution_count": 30,
   "id": "6e04a93c-7dee-4313-8ba4-fed46ae0d349",
   "metadata": {},
   "outputs": [
    {
     "name": "stdout",
     "output_type": "stream",
     "text": [
      "* Модель:     \n",
      "GradientBoostingClassifier(min_samples_leaf=7, n_estimators=150,\n",
      "                           random_state=12345)     \n",
      "* roc_auc_score на обучающей выборке:     \n",
      "Кросс-валидация     \n",
      "[0.7966679  0.80554472 0.80423455 0.80280409 0.79725175]     \n",
      "Среднее значение     \n",
      "0.8013006036292356\n"
     ]
    }
   ],
   "source": [
    "best_boosting = load(\"models/best_boosting.joblib\")\n",
    "cv_boosting = cross_val_score(estimator=best_boosting, \n",
    "                              X=X_train[features_select_b], y=y_train, \n",
    "                              scoring=SCORE, \n",
    "                              cv=5, \n",
    "                              n_jobs=-1)\n",
    "print(\"* Модель:\\\n",
    "     \\n{}\\\n",
    "     \\n* {}_score на обучающей выборке:\\\n",
    "     \\nКросс-валидация\\\n",
    "     \\n{}\\\n",
    "     \\nСреднее значение\\\n",
    "     \\n{}\"\n",
    "      .format(best_boosting,\n",
    "              SCORE,\n",
    "              cv_boosting, \n",
    "              np.mean(cv_boosting)))"
   ]
  },
  {
   "cell_type": "markdown",
   "id": "14e8720c-97ea-41cb-8247-f758dae24a24",
   "metadata": {},
   "source": [
    "Получим предсказание с использованием полученной модели градиентного бустинга"
   ]
  },
  {
   "cell_type": "code",
   "execution_count": 31,
   "id": "3006cfc2-c5e3-43c8-b98a-2195baa67a46",
   "metadata": {},
   "outputs": [],
   "source": [
    "sample_submission_2 = sample_submission.copy()\n",
    "sample_submission_2['cardio'] = best_boosting.predict_proba(test_out_corr[features_select_b])[:, 1]\n",
    "sample_submission_2.to_csv('datasets/sample_submission_2.csv', index=False)"
   ]
  },
  {
   "cell_type": "code",
   "execution_count": 32,
   "id": "5b0930db-52ef-43f1-acd9-31d3dfdce7c0",
   "metadata": {},
   "outputs": [
    {
     "data": {
      "text/html": [
       "<div>\n",
       "<style scoped>\n",
       "    .dataframe tbody tr th:only-of-type {\n",
       "        vertical-align: middle;\n",
       "    }\n",
       "\n",
       "    .dataframe tbody tr th {\n",
       "        vertical-align: top;\n",
       "    }\n",
       "\n",
       "    .dataframe thead th {\n",
       "        text-align: right;\n",
       "    }\n",
       "</style>\n",
       "<table border=\"1\" class=\"dataframe\">\n",
       "  <thead>\n",
       "    <tr style=\"text-align: right;\">\n",
       "      <th></th>\n",
       "      <th>id</th>\n",
       "      <th>cardio</th>\n",
       "    </tr>\n",
       "  </thead>\n",
       "  <tbody>\n",
       "    <tr>\n",
       "      <th>0</th>\n",
       "      <td>5</td>\n",
       "      <td>0.493776</td>\n",
       "    </tr>\n",
       "    <tr>\n",
       "      <th>1</th>\n",
       "      <td>6</td>\n",
       "      <td>0.542546</td>\n",
       "    </tr>\n",
       "    <tr>\n",
       "      <th>2</th>\n",
       "      <td>7</td>\n",
       "      <td>0.399813</td>\n",
       "    </tr>\n",
       "    <tr>\n",
       "      <th>3</th>\n",
       "      <td>10</td>\n",
       "      <td>0.556202</td>\n",
       "    </tr>\n",
       "    <tr>\n",
       "      <th>4</th>\n",
       "      <td>11</td>\n",
       "      <td>0.219919</td>\n",
       "    </tr>\n",
       "  </tbody>\n",
       "</table>\n",
       "</div>"
      ],
      "text/plain": [
       "   id    cardio\n",
       "0   5  0.493776\n",
       "1   6  0.542546\n",
       "2   7  0.399813\n",
       "3  10  0.556202\n",
       "4  11  0.219919"
      ]
     },
     "execution_count": 32,
     "metadata": {},
     "output_type": "execute_result"
    }
   ],
   "source": [
    "pd.read_csv('datasets/sample_submission_2.csv').head()"
   ]
  },
  {
   "cell_type": "markdown",
   "id": "ed0994e6-b6f3-4e3f-afec-1d8c03c5c195",
   "metadata": {},
   "source": [
    "Результат на тестовой выборке (Kaggle): 0.80764"
   ]
  },
  {
   "cell_type": "markdown",
   "id": "d8821b4d-2e9e-42ad-8eb0-d6fec7d60023",
   "metadata": {},
   "source": [
    "Подберем гиперпараметры модели градиентного бустинга используя все признаки. Будем варьировать долю использованных признаков"
   ]
  },
  {
   "cell_type": "code",
   "execution_count": 33,
   "id": "a15b7c75-cb60-4302-8c1b-591ea8426d1a",
   "metadata": {},
   "outputs": [],
   "source": [
    "# params_boosting_wfs = {'learning_rate': [0.01, 0.1, 0.2],\n",
    "#                        'subsample': [0.5, 0.8, 1.0],\n",
    "#                        'n_estimators': [50, 100, 150],\n",
    "#                        'max_depth': [3, 4, 5],\n",
    "#                        'min_samples_leaf': [5, 6, 7],\n",
    "#                        'min_samples_split': [2, 3]}\n",
    "\n",
    "# grid_boosting_wfs = GridSearchCV(estimator=GradientBoostingClassifier(random_state=SEED),\n",
    "#                                  param_grid=params_boosting_wfs,\n",
    "#                                  scoring=SCORE,\n",
    "#                                  cv=5,\n",
    "#                                  n_jobs=-1,\n",
    "#                                  verbose=1)\n",
    "# grid_boosting_wfs.fit(X_train, y_train)\n",
    "# best_boosting_wfs = grid_boosting_wfs.best_estimator_\n",
    "# dump(best_boosting_wfs, \"models/best_boosting_wfs.joblib\")\n",
    "\n",
    "# print(\"Гиперпараметры лучшей модели\")\n",
    "# print(grid_boosting_wfs.best_params_)"
   ]
  },
  {
   "cell_type": "code",
   "execution_count": 34,
   "id": "d823470e-71d0-455a-accb-da29109906bc",
   "metadata": {},
   "outputs": [
    {
     "name": "stdout",
     "output_type": "stream",
     "text": [
      "* Модель:     \n",
      "GradientBoostingClassifier(max_depth=4, min_samples_leaf=6, random_state=12345)     \n",
      "* roc_auc_score на обучающей выборке:     \n",
      "Кросс-валидация     \n",
      "[0.79869619 0.80818115 0.80637919 0.80562563 0.79929045]     \n",
      "Среднее значение     \n",
      "0.8036345211528293\n"
     ]
    }
   ],
   "source": [
    "best_boosting_wfs = load(\"models/best_boosting_wfs.joblib\")\n",
    "cv_boosting_wfs = cross_val_score(estimator=best_boosting_wfs, \n",
    "                                  X=X_train, y=y_train, \n",
    "                                  scoring=SCORE, \n",
    "                                  cv=5, \n",
    "                                  n_jobs=-1)\n",
    "print(\"* Модель:\\\n",
    "     \\n{}\\\n",
    "     \\n* {}_score на обучающей выборке:\\\n",
    "     \\nКросс-валидация\\\n",
    "     \\n{}\\\n",
    "     \\nСреднее значение\\\n",
    "     \\n{}\"\n",
    "      .format(best_boosting_wfs,\n",
    "              SCORE,\n",
    "              cv_boosting_wfs, \n",
    "              np.mean(cv_boosting_wfs)))"
   ]
  },
  {
   "cell_type": "markdown",
   "id": "ca94342d-54a6-4ca6-9653-df15f480e223",
   "metadata": {},
   "source": [
    "Получим предсказание с использованием полученной модели градиентного бустинга"
   ]
  },
  {
   "cell_type": "code",
   "execution_count": 35,
   "id": "5c618f11-b471-4e28-82a7-815d5732beae",
   "metadata": {},
   "outputs": [],
   "source": [
    "sample_submission_3 = sample_submission.copy()\n",
    "sample_submission_3['cardio'] = best_boosting_wfs.predict_proba(test_out_corr)[:, 1]\n",
    "sample_submission_3.to_csv('datasets/sample_submission_3.csv', index=False)"
   ]
  },
  {
   "cell_type": "code",
   "execution_count": 36,
   "id": "002bef6f-77f0-4c86-938e-5bccaff830b7",
   "metadata": {},
   "outputs": [
    {
     "data": {
      "text/html": [
       "<div>\n",
       "<style scoped>\n",
       "    .dataframe tbody tr th:only-of-type {\n",
       "        vertical-align: middle;\n",
       "    }\n",
       "\n",
       "    .dataframe tbody tr th {\n",
       "        vertical-align: top;\n",
       "    }\n",
       "\n",
       "    .dataframe thead th {\n",
       "        text-align: right;\n",
       "    }\n",
       "</style>\n",
       "<table border=\"1\" class=\"dataframe\">\n",
       "  <thead>\n",
       "    <tr style=\"text-align: right;\">\n",
       "      <th></th>\n",
       "      <th>id</th>\n",
       "      <th>cardio</th>\n",
       "    </tr>\n",
       "  </thead>\n",
       "  <tbody>\n",
       "    <tr>\n",
       "      <th>0</th>\n",
       "      <td>5</td>\n",
       "      <td>0.504724</td>\n",
       "    </tr>\n",
       "    <tr>\n",
       "      <th>1</th>\n",
       "      <td>6</td>\n",
       "      <td>0.552830</td>\n",
       "    </tr>\n",
       "    <tr>\n",
       "      <th>2</th>\n",
       "      <td>7</td>\n",
       "      <td>0.428071</td>\n",
       "    </tr>\n",
       "    <tr>\n",
       "      <th>3</th>\n",
       "      <td>10</td>\n",
       "      <td>0.548324</td>\n",
       "    </tr>\n",
       "    <tr>\n",
       "      <th>4</th>\n",
       "      <td>11</td>\n",
       "      <td>0.226247</td>\n",
       "    </tr>\n",
       "  </tbody>\n",
       "</table>\n",
       "</div>"
      ],
      "text/plain": [
       "   id    cardio\n",
       "0   5  0.504724\n",
       "1   6  0.552830\n",
       "2   7  0.428071\n",
       "3  10  0.548324\n",
       "4  11  0.226247"
      ]
     },
     "execution_count": 36,
     "metadata": {},
     "output_type": "execute_result"
    }
   ],
   "source": [
    "pd.read_csv('datasets/sample_submission_3.csv').head()"
   ]
  },
  {
   "cell_type": "markdown",
   "id": "bfe81495-d46c-4464-9a0a-cbe93b56c3e4",
   "metadata": {},
   "source": [
    "Результат на тестовой выборке (Kaggle): 0.81004"
   ]
  },
  {
   "cell_type": "markdown",
   "id": "ad391b2b-534c-4841-9708-3fe64e79db40",
   "metadata": {},
   "source": [
    "Можно видеть что использование всех имеющихся признаков в модели градиентного бустинга увеличивает величину метрики. Можно заключить, что отбор признаков необходимо проводить до количества снижаеющего величину метрики."
   ]
  },
  {
   "cell_type": "markdown",
   "id": "1c0d7e86-5326-44b6-9ba8-532a0130f2df",
   "metadata": {},
   "source": [
    "## Генерация признаков"
   ]
  },
  {
   "cell_type": "markdown",
   "id": "41176c4a-6bb8-43f7-ba74-49e3ab744201",
   "metadata": {},
   "source": [
    "Сгенерируем полиномиальные признаки второй степени. После этого произведем отбор признаков с помощью моделей случайного леса и градиентного бустинга с целью максимизации метрики ROC-AUC"
   ]
  },
  {
   "cell_type": "code",
   "execution_count": 37,
   "id": "e5fcc1b9-5df7-4226-90aa-2cd6302e994c",
   "metadata": {},
   "outputs": [
    {
     "data": {
      "text/html": [
       "<div>\n",
       "<style scoped>\n",
       "    .dataframe tbody tr th:only-of-type {\n",
       "        vertical-align: middle;\n",
       "    }\n",
       "\n",
       "    .dataframe tbody tr th {\n",
       "        vertical-align: top;\n",
       "    }\n",
       "\n",
       "    .dataframe thead th {\n",
       "        text-align: right;\n",
       "    }\n",
       "</style>\n",
       "<table border=\"1\" class=\"dataframe\">\n",
       "  <thead>\n",
       "    <tr style=\"text-align: right;\">\n",
       "      <th></th>\n",
       "      <th>age</th>\n",
       "      <th>height</th>\n",
       "      <th>weight</th>\n",
       "      <th>ap_hi</th>\n",
       "      <th>ap_lo</th>\n",
       "      <th>age**2</th>\n",
       "      <th>age*height</th>\n",
       "      <th>age*weight</th>\n",
       "      <th>age*ap_hi</th>\n",
       "      <th>age*ap_lo</th>\n",
       "      <th>...</th>\n",
       "      <th>weight*ap_lo</th>\n",
       "      <th>ap_hi**2</th>\n",
       "      <th>ap_hi*ap_lo</th>\n",
       "      <th>ap_lo**2</th>\n",
       "      <th>gender</th>\n",
       "      <th>cholesterol</th>\n",
       "      <th>gluc</th>\n",
       "      <th>smoke</th>\n",
       "      <th>alco</th>\n",
       "      <th>active</th>\n",
       "    </tr>\n",
       "    <tr>\n",
       "      <th>id</th>\n",
       "      <th></th>\n",
       "      <th></th>\n",
       "      <th></th>\n",
       "      <th></th>\n",
       "      <th></th>\n",
       "      <th></th>\n",
       "      <th></th>\n",
       "      <th></th>\n",
       "      <th></th>\n",
       "      <th></th>\n",
       "      <th></th>\n",
       "      <th></th>\n",
       "      <th></th>\n",
       "      <th></th>\n",
       "      <th></th>\n",
       "      <th></th>\n",
       "      <th></th>\n",
       "      <th></th>\n",
       "      <th></th>\n",
       "      <th></th>\n",
       "      <th></th>\n",
       "    </tr>\n",
       "  </thead>\n",
       "  <tbody>\n",
       "    <tr>\n",
       "      <th>5</th>\n",
       "      <td>51</td>\n",
       "      <td>154</td>\n",
       "      <td>85</td>\n",
       "      <td>130</td>\n",
       "      <td>80</td>\n",
       "      <td>2601</td>\n",
       "      <td>7854</td>\n",
       "      <td>4335</td>\n",
       "      <td>6630</td>\n",
       "      <td>4080</td>\n",
       "      <td>...</td>\n",
       "      <td>6800</td>\n",
       "      <td>16900</td>\n",
       "      <td>10400</td>\n",
       "      <td>6400</td>\n",
       "      <td>1</td>\n",
       "      <td>1</td>\n",
       "      <td>1</td>\n",
       "      <td>False</td>\n",
       "      <td>False</td>\n",
       "      <td>True</td>\n",
       "    </tr>\n",
       "    <tr>\n",
       "      <th>6</th>\n",
       "      <td>52</td>\n",
       "      <td>170</td>\n",
       "      <td>69</td>\n",
       "      <td>130</td>\n",
       "      <td>90</td>\n",
       "      <td>2704</td>\n",
       "      <td>8840</td>\n",
       "      <td>3588</td>\n",
       "      <td>6760</td>\n",
       "      <td>4680</td>\n",
       "      <td>...</td>\n",
       "      <td>6210</td>\n",
       "      <td>16900</td>\n",
       "      <td>11700</td>\n",
       "      <td>8100</td>\n",
       "      <td>2</td>\n",
       "      <td>1</td>\n",
       "      <td>1</td>\n",
       "      <td>False</td>\n",
       "      <td>False</td>\n",
       "      <td>True</td>\n",
       "    </tr>\n",
       "    <tr>\n",
       "      <th>7</th>\n",
       "      <td>55</td>\n",
       "      <td>160</td>\n",
       "      <td>70</td>\n",
       "      <td>120</td>\n",
       "      <td>75</td>\n",
       "      <td>3025</td>\n",
       "      <td>8800</td>\n",
       "      <td>3850</td>\n",
       "      <td>6600</td>\n",
       "      <td>4125</td>\n",
       "      <td>...</td>\n",
       "      <td>5250</td>\n",
       "      <td>14400</td>\n",
       "      <td>9000</td>\n",
       "      <td>5625</td>\n",
       "      <td>1</td>\n",
       "      <td>1</td>\n",
       "      <td>1</td>\n",
       "      <td>False</td>\n",
       "      <td>False</td>\n",
       "      <td>False</td>\n",
       "    </tr>\n",
       "    <tr>\n",
       "      <th>10</th>\n",
       "      <td>49</td>\n",
       "      <td>180</td>\n",
       "      <td>94</td>\n",
       "      <td>130</td>\n",
       "      <td>90</td>\n",
       "      <td>2401</td>\n",
       "      <td>8820</td>\n",
       "      <td>4606</td>\n",
       "      <td>6370</td>\n",
       "      <td>4410</td>\n",
       "      <td>...</td>\n",
       "      <td>8460</td>\n",
       "      <td>16900</td>\n",
       "      <td>11700</td>\n",
       "      <td>8100</td>\n",
       "      <td>2</td>\n",
       "      <td>1</td>\n",
       "      <td>1</td>\n",
       "      <td>False</td>\n",
       "      <td>False</td>\n",
       "      <td>True</td>\n",
       "    </tr>\n",
       "    <tr>\n",
       "      <th>11</th>\n",
       "      <td>44</td>\n",
       "      <td>170</td>\n",
       "      <td>76</td>\n",
       "      <td>120</td>\n",
       "      <td>80</td>\n",
       "      <td>1936</td>\n",
       "      <td>7480</td>\n",
       "      <td>3344</td>\n",
       "      <td>5280</td>\n",
       "      <td>3520</td>\n",
       "      <td>...</td>\n",
       "      <td>6080</td>\n",
       "      <td>14400</td>\n",
       "      <td>9600</td>\n",
       "      <td>6400</td>\n",
       "      <td>2</td>\n",
       "      <td>1</td>\n",
       "      <td>1</td>\n",
       "      <td>False</td>\n",
       "      <td>False</td>\n",
       "      <td>True</td>\n",
       "    </tr>\n",
       "  </tbody>\n",
       "</table>\n",
       "<p>5 rows × 26 columns</p>\n",
       "</div>"
      ],
      "text/plain": [
       "    age  height  weight  ap_hi  ap_lo  age**2  age*height  age*weight  \\\n",
       "id                                                                      \n",
       "5    51     154      85    130     80    2601        7854        4335   \n",
       "6    52     170      69    130     90    2704        8840        3588   \n",
       "7    55     160      70    120     75    3025        8800        3850   \n",
       "10   49     180      94    130     90    2401        8820        4606   \n",
       "11   44     170      76    120     80    1936        7480        3344   \n",
       "\n",
       "    age*ap_hi  age*ap_lo  ...  weight*ap_lo  ap_hi**2  ap_hi*ap_lo  ap_lo**2  \\\n",
       "id                        ...                                                  \n",
       "5        6630       4080  ...          6800     16900        10400      6400   \n",
       "6        6760       4680  ...          6210     16900        11700      8100   \n",
       "7        6600       4125  ...          5250     14400         9000      5625   \n",
       "10       6370       4410  ...          8460     16900        11700      8100   \n",
       "11       5280       3520  ...          6080     14400         9600      6400   \n",
       "\n",
       "    gender  cholesterol  gluc  smoke   alco  active  \n",
       "id                                                   \n",
       "5        1            1     1  False  False    True  \n",
       "6        2            1     1  False  False    True  \n",
       "7        1            1     1  False  False   False  \n",
       "10       2            1     1  False  False    True  \n",
       "11       2            1     1  False  False    True  \n",
       "\n",
       "[5 rows x 26 columns]"
      ]
     },
     "execution_count": 37,
     "metadata": {},
     "output_type": "execute_result"
    }
   ],
   "source": [
    "preprocess = PolynomialFeatures(degree=2, include_bias=False)\n",
    "\n",
    "X_train_fg = pd.DataFrame(preprocess.fit_transform(X_train[num_cols]))\n",
    "X_test_fg = pd.DataFrame(preprocess.fit_transform(test_out_corr[num_cols]))\n",
    "\n",
    "preprocess_num_cols = ['age', 'height', 'weight', 'ap_hi', 'ap_lo',\n",
    "                       'age**2', 'age*height', 'age*weight', 'age*ap_hi', 'age*ap_lo',\n",
    "                       'height**2', 'height*weight', 'height*ap_hi', 'height*ap_lo',\n",
    "                       'weight**2', 'weight*ap_hi', 'weight*ap_lo',\n",
    "                       'ap_hi**2', 'ap_hi*ap_lo',\n",
    "                       'ap_lo**2']\n",
    "\n",
    "for i in [X_train_fg, X_test_fg]:\n",
    "    i.columns = preprocess_num_cols\n",
    "    i[preprocess_num_cols] = i[preprocess_num_cols].astype('int64')\n",
    "\n",
    "X_train_fg.index = X_train.index\n",
    "X_test_fg.index = test_out_corr.index\n",
    "\n",
    "X_train_fg = pd.concat([X_train_fg, X_train[cat_cols + bool_cols]], axis=1)\n",
    "X_test_fg = pd.concat([X_test_fg, test_out_corr[cat_cols + bool_cols]], axis=1)\n",
    "\n",
    "X_test_fg.head()"
   ]
  },
  {
   "cell_type": "markdown",
   "id": "e8c12be7-29cf-4b26-a3b4-e5cc6c89130f",
   "metadata": {},
   "source": [
    "Произведем отбор признаков с помощью модели случайного леса"
   ]
  },
  {
   "cell_type": "code",
   "execution_count": 38,
   "id": "7e695581-e9ec-4529-aa8c-2f31cc975c66",
   "metadata": {},
   "outputs": [],
   "source": [
    "# features = list(X_train_fg.columns)\n",
    "# current_features = []\n",
    "# results_features = []\n",
    "# results_auc = []\n",
    "\n",
    "# while len(features) !=0:\n",
    "#     best_feature, best_auc = feature_search(X=X_train_fg, y=y_train,        \n",
    "#                                             candidate_features=features, \n",
    "#                                             used_features=current_features,\n",
    "#                                             estimator=RandomForestClassifier(random_state=SEED),\n",
    "#                                             scorer=SCORE)\n",
    "#     results_features.append(current_features + [best_feature])\n",
    "#     results_auc.append(best_auc)\n",
    "#     features.remove(best_feature)\n",
    "#     current_features.append(best_feature)\n",
    "\n",
    "# fs_forest_fg_df = pd.DataFrame([results_features, results_auc]).transpose()\n",
    "# fs_forest_fg_df.columns=['features', 'roc-auc']\n",
    "# fs_forest_fg_df['n_features'] = fs_forest_fg_df['features'].apply(len)\n",
    "# fs_forest_fg_df.to_csv('feature_selection/forest_auc_fg.csv')"
   ]
  },
  {
   "cell_type": "code",
   "execution_count": 39,
   "id": "882c1c06-848c-43f2-b2cd-cd4da54429b8",
   "metadata": {},
   "outputs": [
    {
     "data": {
      "text/html": [
       "<div>\n",
       "<style scoped>\n",
       "    .dataframe tbody tr th:only-of-type {\n",
       "        vertical-align: middle;\n",
       "    }\n",
       "\n",
       "    .dataframe tbody tr th {\n",
       "        vertical-align: top;\n",
       "    }\n",
       "\n",
       "    .dataframe thead th {\n",
       "        text-align: right;\n",
       "    }\n",
       "</style>\n",
       "<table border=\"1\" class=\"dataframe\">\n",
       "  <thead>\n",
       "    <tr style=\"text-align: right;\">\n",
       "      <th></th>\n",
       "      <th>features</th>\n",
       "      <th>roc-auc</th>\n",
       "    </tr>\n",
       "    <tr>\n",
       "      <th>n_features</th>\n",
       "      <th></th>\n",
       "      <th></th>\n",
       "    </tr>\n",
       "  </thead>\n",
       "  <tbody>\n",
       "    <tr>\n",
       "      <th>1</th>\n",
       "      <td>['age*ap_hi']</td>\n",
       "      <td>0.774</td>\n",
       "    </tr>\n",
       "    <tr>\n",
       "      <th>2</th>\n",
       "      <td>['age*ap_hi', 'cholesterol']</td>\n",
       "      <td>0.783</td>\n",
       "    </tr>\n",
       "    <tr>\n",
       "      <th>3</th>\n",
       "      <td>['age*ap_hi', 'cholesterol', 'ap_hi']</td>\n",
       "      <td>0.792</td>\n",
       "    </tr>\n",
       "    <tr>\n",
       "      <th>4</th>\n",
       "      <td>['age*ap_hi', 'cholesterol', 'ap_hi', 'age']</td>\n",
       "      <td>0.792</td>\n",
       "    </tr>\n",
       "    <tr>\n",
       "      <th>5</th>\n",
       "      <td>['age*ap_hi', 'cholesterol', 'ap_hi', 'age', '...</td>\n",
       "      <td>0.792</td>\n",
       "    </tr>\n",
       "    <tr>\n",
       "      <th>6</th>\n",
       "      <td>['age*ap_hi', 'cholesterol', 'ap_hi', 'age', '...</td>\n",
       "      <td>0.792</td>\n",
       "    </tr>\n",
       "    <tr>\n",
       "      <th>7</th>\n",
       "      <td>['age*ap_hi', 'cholesterol', 'ap_hi', 'age', '...</td>\n",
       "      <td>0.790</td>\n",
       "    </tr>\n",
       "  </tbody>\n",
       "</table>\n",
       "</div>"
      ],
      "text/plain": [
       "                                                     features  roc-auc\n",
       "n_features                                                            \n",
       "1                                               ['age*ap_hi']    0.774\n",
       "2                                ['age*ap_hi', 'cholesterol']    0.783\n",
       "3                       ['age*ap_hi', 'cholesterol', 'ap_hi']    0.792\n",
       "4                ['age*ap_hi', 'cholesterol', 'ap_hi', 'age']    0.792\n",
       "5           ['age*ap_hi', 'cholesterol', 'ap_hi', 'age', '...    0.792\n",
       "6           ['age*ap_hi', 'cholesterol', 'ap_hi', 'age', '...    0.792\n",
       "7           ['age*ap_hi', 'cholesterol', 'ap_hi', 'age', '...    0.790"
      ]
     },
     "execution_count": 39,
     "metadata": {},
     "output_type": "execute_result"
    }
   ],
   "source": [
    "fs_forest_fg_df = pd.read_csv('feature_selection/forest_auc_fg.csv', index_col=0)\n",
    "fs_forest_fg_df.index = fs_forest_fg_df['n_features']\n",
    "fs_forest_fg_df['roc-auc'] = fs_forest_fg_df['roc-auc'].round(3)\n",
    "fs_forest_fg_df[['features', 'roc-auc']].head(7)"
   ]
  },
  {
   "cell_type": "code",
   "execution_count": 40,
   "id": "b1e9ca00-d997-4129-bb49-639ddbae1eaf",
   "metadata": {},
   "outputs": [
    {
     "data": {
      "image/png": "[encoded data removed]",
      "text/plain": [
       "<Figure size 432x288 with 1 Axes>"
      ]
     },
     "metadata": {
      "needs_background": "light"
     },
     "output_type": "display_data"
    }
   ],
   "source": [
    "fs_forest_fg_df.plot('n_features', 'roc-auc')\n",
    "plt.title('Random Forest Feature Selection after Feature Generation')\n",
    "plt.show()"
   ]
  },
  {
   "cell_type": "markdown",
   "id": "50df1653-b216-4477-b305-8666d031c53e",
   "metadata": {},
   "source": [
    "Наибольшая величина метрики достигается при 6 признаках и она превосходит найденную выше с использованием случайного леса и исходного набора признаков"
   ]
  },
  {
   "cell_type": "code",
   "execution_count": 41,
   "id": "0e05a78b-2955-4bc0-93e3-8a1767d069ff",
   "metadata": {},
   "outputs": [],
   "source": [
    "features_forest_fg = ['age*ap_hi', 'cholesterol', 'ap_hi', 'age', 'age**2', 'ap_hi**2']"
   ]
  },
  {
   "cell_type": "markdown",
   "id": "424e0a07-c3e5-4591-be6f-fc7135f0d78a",
   "metadata": {},
   "source": [
    "Подберем гиперпараметры модели используя отобранные признаки."
   ]
  },
  {
   "cell_type": "code",
   "execution_count": 42,
   "id": "e9f511b3-1f0e-4904-b1b7-8a665a51fc68",
   "metadata": {},
   "outputs": [],
   "source": [
    "# params_forest_fg = {'n_estimators': [80, 100, 120],\n",
    "#                     'max_depth': [6, 7, 8],\n",
    "#                     'min_samples_leaf': [6, 7, 8],\n",
    "#                     'min_samples_split': [2, 3, 4]}\n",
    "\n",
    "# grid_forest_fg = GridSearchCV(estimator=RandomForestClassifier(random_state=SEED),\n",
    "#                               param_grid=params_forest_fg,\n",
    "#                               scoring=SCORE,\n",
    "#                               cv=5,\n",
    "#                               n_jobs=-1,\n",
    "#                               verbose=1)\n",
    "# grid_forest_fg.fit(X_train_fg[features_forest_fg], y_train)\n",
    "# best_forest_fg = grid_forest_fg.best_estimator_\n",
    "# dump(best_forest_fg, \"models/best_forest_fg.joblib\")\n",
    "\n",
    "# print(\"Гиперпараметры лучшей модели\")\n",
    "# print(grid_forest_fg.best_params_)"
   ]
  },
  {
   "cell_type": "markdown",
   "id": "14fa4b1f-1ed1-4d48-9377-255972763d5d",
   "metadata": {},
   "source": [
    "Оценим качество найденной модели."
   ]
  },
  {
   "cell_type": "code",
   "execution_count": 43,
   "id": "4b94f824-1b74-4632-a7b1-2066fd875c97",
   "metadata": {},
   "outputs": [
    {
     "name": "stdout",
     "output_type": "stream",
     "text": [
      "* Модель:     \n",
      "RandomForestClassifier(max_depth=7, min_samples_leaf=7, random_state=12345)     \n",
      "* roc_auc_score на обучающей выборке:     \n",
      "Кросс-валидация     \n",
      "[0.79102366 0.79893106 0.80000158 0.79614455 0.79253289]     \n",
      "Среднее значение     \n",
      "0.795726746288137\n"
     ]
    }
   ],
   "source": [
    "best_forest_fg = load(\"models/best_forest_fg.joblib\")\n",
    "cv_forest_fg = cross_val_score(estimator=best_forest_fg, \n",
    "                               X=X_train_fg[features_forest_fg], y=y_train, \n",
    "                               scoring=SCORE, \n",
    "                               cv=5, \n",
    "                               n_jobs=-1)\n",
    "print(\"* Модель:\\\n",
    "     \\n{}\\\n",
    "     \\n* {}_score на обучающей выборке:\\\n",
    "     \\nКросс-валидация\\\n",
    "     \\n{}\\\n",
    "     \\nСреднее значение\\\n",
    "     \\n{}\"\n",
    "      .format(best_forest_fg,\n",
    "              SCORE,\n",
    "              cv_forest_fg, \n",
    "              np.mean(cv_forest_fg)))"
   ]
  },
  {
   "cell_type": "markdown",
   "id": "41f0d204-6e79-4b58-bf75-4f53c70e7029",
   "metadata": {},
   "source": [
    "Получим предсказание с использованием полученной модели градиентного бустинга"
   ]
  },
  {
   "cell_type": "code",
   "execution_count": 44,
   "id": "6cf3cd2a-be5c-4cdc-80b3-2a2d1265418e",
   "metadata": {},
   "outputs": [],
   "source": [
    "sample_submission_4 = sample_submission.copy()\n",
    "sample_submission_4['cardio'] = best_forest_fg.predict_proba(X_test_fg[features_forest_fg])[:, 1]\n",
    "sample_submission_4.to_csv('datasets/sample_submission_4.csv', index=False)"
   ]
  },
  {
   "cell_type": "code",
   "execution_count": 45,
   "id": "093d769a-83fd-4c56-84b6-59fd4232d55b",
   "metadata": {},
   "outputs": [
    {
     "data": {
      "text/html": [
       "<div>\n",
       "<style scoped>\n",
       "    .dataframe tbody tr th:only-of-type {\n",
       "        vertical-align: middle;\n",
       "    }\n",
       "\n",
       "    .dataframe tbody tr th {\n",
       "        vertical-align: top;\n",
       "    }\n",
       "\n",
       "    .dataframe thead th {\n",
       "        text-align: right;\n",
       "    }\n",
       "</style>\n",
       "<table border=\"1\" class=\"dataframe\">\n",
       "  <thead>\n",
       "    <tr style=\"text-align: right;\">\n",
       "      <th></th>\n",
       "      <th>id</th>\n",
       "      <th>cardio</th>\n",
       "    </tr>\n",
       "  </thead>\n",
       "  <tbody>\n",
       "    <tr>\n",
       "      <th>0</th>\n",
       "      <td>5</td>\n",
       "      <td>0.498250</td>\n",
       "    </tr>\n",
       "    <tr>\n",
       "      <th>1</th>\n",
       "      <td>6</td>\n",
       "      <td>0.500992</td>\n",
       "    </tr>\n",
       "    <tr>\n",
       "      <th>2</th>\n",
       "      <td>7</td>\n",
       "      <td>0.380509</td>\n",
       "    </tr>\n",
       "    <tr>\n",
       "      <th>3</th>\n",
       "      <td>10</td>\n",
       "      <td>0.493421</td>\n",
       "    </tr>\n",
       "    <tr>\n",
       "      <th>4</th>\n",
       "      <td>11</td>\n",
       "      <td>0.236106</td>\n",
       "    </tr>\n",
       "  </tbody>\n",
       "</table>\n",
       "</div>"
      ],
      "text/plain": [
       "   id    cardio\n",
       "0   5  0.498250\n",
       "1   6  0.500992\n",
       "2   7  0.380509\n",
       "3  10  0.493421\n",
       "4  11  0.236106"
      ]
     },
     "execution_count": 45,
     "metadata": {},
     "output_type": "execute_result"
    }
   ],
   "source": [
    "pd.read_csv('datasets/sample_submission_4.csv').head()"
   ]
  },
  {
   "cell_type": "markdown",
   "id": "719996ac-24aa-4162-a8b2-df424d21f331",
   "metadata": {},
   "source": [
    "Результат на тестовой выборке (Kaggle): 0.80220. Результат ухудшился по сравнению с аналогичным подходом к исходному датасету (без генерации признаков)."
   ]
  },
  {
   "cell_type": "markdown",
   "id": "6b488073-8008-4c19-8cbc-a6cb4949c765",
   "metadata": {},
   "source": [
    "Подберем признаки в модели градиентного бустинга"
   ]
  },
  {
   "cell_type": "code",
   "execution_count": 46,
   "id": "4a6912b5-3cda-4326-a926-0f0e06073285",
   "metadata": {},
   "outputs": [],
   "source": [
    "# features = list(X_train_fg.columns)\n",
    "# current_features = []\n",
    "# results_features = []\n",
    "# results_auc = []\n",
    "\n",
    "# while len(features) !=0:\n",
    "#     best_feature, best_auc = feature_search(X=X_train_fg, y=y_train,        \n",
    "#                                             candidate_features=features, \n",
    "#                                             used_features=current_features,\n",
    "#                                             estimator=GradientBoostingClassifier(random_state=SEED),\n",
    "#                                             scorer=SCORE)\n",
    "#     results_features.append(current_features + [best_feature])\n",
    "#     results_auc.append(best_auc)\n",
    "#     features.remove(best_feature)\n",
    "#     current_features.append(best_feature)\n",
    "\n",
    "# fs_boosting_fg_df = pd.DataFrame([results_features, results_auc]).transpose()\n",
    "# fs_boosting_fg_df.columns=['features', 'roc-auc']\n",
    "# fs_boosting_fg_df['n_features'] = fs_boosting_fg_df['features'].apply(len)\n",
    "# fs_boosting_fg_df.to_csv('feature_selection/boosting_auc_fg.csv', index=False)"
   ]
  },
  {
   "cell_type": "code",
   "execution_count": 47,
   "id": "1c192b4c-2da7-45e0-9616-e3326f653b4a",
   "metadata": {},
   "outputs": [
    {
     "data": {
      "text/html": [
       "<div>\n",
       "<style scoped>\n",
       "    .dataframe tbody tr th:only-of-type {\n",
       "        vertical-align: middle;\n",
       "    }\n",
       "\n",
       "    .dataframe tbody tr th {\n",
       "        vertical-align: top;\n",
       "    }\n",
       "\n",
       "    .dataframe thead th {\n",
       "        text-align: right;\n",
       "    }\n",
       "</style>\n",
       "<table border=\"1\" class=\"dataframe\">\n",
       "  <thead>\n",
       "    <tr style=\"text-align: right;\">\n",
       "      <th></th>\n",
       "      <th>features</th>\n",
       "      <th>roc-auc</th>\n",
       "    </tr>\n",
       "    <tr>\n",
       "      <th>n_features</th>\n",
       "      <th></th>\n",
       "      <th></th>\n",
       "    </tr>\n",
       "  </thead>\n",
       "  <tbody>\n",
       "    <tr>\n",
       "      <th>1</th>\n",
       "      <td>['age*ap_hi']</td>\n",
       "      <td>0.769</td>\n",
       "    </tr>\n",
       "    <tr>\n",
       "      <th>2</th>\n",
       "      <td>['age*ap_hi', 'ap_hi*ap_lo']</td>\n",
       "      <td>0.786</td>\n",
       "    </tr>\n",
       "    <tr>\n",
       "      <th>3</th>\n",
       "      <td>['age*ap_hi', 'ap_hi*ap_lo', 'cholesterol']</td>\n",
       "      <td>0.795</td>\n",
       "    </tr>\n",
       "    <tr>\n",
       "      <th>4</th>\n",
       "      <td>['age*ap_hi', 'ap_hi*ap_lo', 'cholesterol', 'w...</td>\n",
       "      <td>0.797</td>\n",
       "    </tr>\n",
       "    <tr>\n",
       "      <th>5</th>\n",
       "      <td>['age*ap_hi', 'ap_hi*ap_lo', 'cholesterol', 'w...</td>\n",
       "      <td>0.799</td>\n",
       "    </tr>\n",
       "    <tr>\n",
       "      <th>6</th>\n",
       "      <td>['age*ap_hi', 'ap_hi*ap_lo', 'cholesterol', 'w...</td>\n",
       "      <td>0.800</td>\n",
       "    </tr>\n",
       "    <tr>\n",
       "      <th>7</th>\n",
       "      <td>['age*ap_hi', 'ap_hi*ap_lo', 'cholesterol', 'w...</td>\n",
       "      <td>0.801</td>\n",
       "    </tr>\n",
       "    <tr>\n",
       "      <th>8</th>\n",
       "      <td>['age*ap_hi', 'ap_hi*ap_lo', 'cholesterol', 'w...</td>\n",
       "      <td>0.802</td>\n",
       "    </tr>\n",
       "    <tr>\n",
       "      <th>9</th>\n",
       "      <td>['age*ap_hi', 'ap_hi*ap_lo', 'cholesterol', 'w...</td>\n",
       "      <td>0.802</td>\n",
       "    </tr>\n",
       "    <tr>\n",
       "      <th>10</th>\n",
       "      <td>['age*ap_hi', 'ap_hi*ap_lo', 'cholesterol', 'w...</td>\n",
       "      <td>0.803</td>\n",
       "    </tr>\n",
       "    <tr>\n",
       "      <th>11</th>\n",
       "      <td>['age*ap_hi', 'ap_hi*ap_lo', 'cholesterol', 'w...</td>\n",
       "      <td>0.803</td>\n",
       "    </tr>\n",
       "  </tbody>\n",
       "</table>\n",
       "</div>"
      ],
      "text/plain": [
       "                                                     features  roc-auc\n",
       "n_features                                                            \n",
       "1                                               ['age*ap_hi']    0.769\n",
       "2                                ['age*ap_hi', 'ap_hi*ap_lo']    0.786\n",
       "3                 ['age*ap_hi', 'ap_hi*ap_lo', 'cholesterol']    0.795\n",
       "4           ['age*ap_hi', 'ap_hi*ap_lo', 'cholesterol', 'w...    0.797\n",
       "5           ['age*ap_hi', 'ap_hi*ap_lo', 'cholesterol', 'w...    0.799\n",
       "6           ['age*ap_hi', 'ap_hi*ap_lo', 'cholesterol', 'w...    0.800\n",
       "7           ['age*ap_hi', 'ap_hi*ap_lo', 'cholesterol', 'w...    0.801\n",
       "8           ['age*ap_hi', 'ap_hi*ap_lo', 'cholesterol', 'w...    0.802\n",
       "9           ['age*ap_hi', 'ap_hi*ap_lo', 'cholesterol', 'w...    0.802\n",
       "10          ['age*ap_hi', 'ap_hi*ap_lo', 'cholesterol', 'w...    0.803\n",
       "11          ['age*ap_hi', 'ap_hi*ap_lo', 'cholesterol', 'w...    0.803"
      ]
     },
     "execution_count": 47,
     "metadata": {},
     "output_type": "execute_result"
    }
   ],
   "source": [
    "fs_boosting_fg_df = pd.read_csv('feature_selection/boosting_auc_fg.csv')\n",
    "fs_boosting_fg_df.index = fs_boosting_fg_df['n_features']\n",
    "fs_boosting_fg_df['roc-auc'] = fs_boosting_fg_df['roc-auc'].round(3)\n",
    "fs_boosting_fg_df[['features', 'roc-auc']].head(11)"
   ]
  },
  {
   "cell_type": "code",
   "execution_count": 48,
   "id": "1079409c-35f3-4b46-937d-974483dbff75",
   "metadata": {},
   "outputs": [
    {
     "data": {
      "image/png": "[encoded data removed]",
      "text/plain": [
       "<Figure size 432x288 with 1 Axes>"
      ]
     },
     "metadata": {
      "needs_background": "light"
     },
     "output_type": "display_data"
    }
   ],
   "source": [
    "fs_boosting_fg_df.plot('n_features', 'roc-auc')\n",
    "plt.title('Gradient Boosting Feature Selection after Feature Generation')\n",
    "plt.show()"
   ]
  },
  {
   "cell_type": "markdown",
   "id": "27912c23-13b5-4efa-b4e8-8f11e2c9def9",
   "metadata": {},
   "source": [
    "Можно видеть, что начиная с 10 признаков значение метрики не изменяется до 3 знака после запятой. Используем найденные признаки для подбора гиперпараметров."
   ]
  },
  {
   "cell_type": "code",
   "execution_count": 49,
   "id": "7336f96f-1699-430f-8a26-f0487ba0ffef",
   "metadata": {},
   "outputs": [],
   "source": [
    "features_boosting_fg = ['age*ap_hi', 'ap_hi*ap_lo', 'cholesterol', 'weight', 'ap_hi', 'active', 'gluc', 'age', 'alco', 'gender']"
   ]
  },
  {
   "cell_type": "code",
   "execution_count": 50,
   "id": "38c68bc1-6b89-4cc0-b790-671c592374f9",
   "metadata": {},
   "outputs": [],
   "source": [
    "# params_boosting_fg = {'learning_rate': [0.05, 0.1, 0.15],\n",
    "#                       'subsample': [0.8, 0.9, 1.0],\n",
    "#                       'n_estimators': [100, 200, 300],\n",
    "#                       'max_depth': [3, 4, 5],\n",
    "#                       'min_samples_leaf': [5, 6, 7],\n",
    "#                       'min_samples_split': [2, 3]}\n",
    "\n",
    "# grid_boosting_fg = GridSearchCV(estimator=GradientBoostingClassifier(random_state=SEED),\n",
    "#                                  param_grid=params_boosting_fg,\n",
    "#                                  scoring=SCORE,\n",
    "#                                  cv=5,\n",
    "#                                  n_jobs=-1,\n",
    "#                                  verbose=1)\n",
    "# grid_boosting_fg.fit(X_train_fg[features_boosting_fg], y_train)\n",
    "# best_boosting_fg = grid_boosting_fg.best_estimator_\n",
    "# dump(best_boosting_fg, \"models/best_boosting_fg.joblib\")\n",
    "\n",
    "# print(\"Гиперпараметры лучшей модели\")\n",
    "# print(grid_boosting_fg.best_params_)"
   ]
  },
  {
   "cell_type": "code",
   "execution_count": 51,
   "id": "fb2c16ce-fd82-4f66-9a28-f6657b5aecad",
   "metadata": {},
   "outputs": [
    {
     "name": "stdout",
     "output_type": "stream",
     "text": [
      "* Модель:     \n",
      "GradientBoostingClassifier(learning_rate=0.05, max_depth=4, min_samples_leaf=6,\n",
      "                           n_estimators=200, random_state=12345, subsample=0.9)     \n",
      "* roc_auc_score на обучающей выборке:     \n",
      "Кросс-валидация     \n",
      "[0.79885835 0.80772727 0.80678984 0.80422003 0.79928243]     \n",
      "Среднее значение     \n",
      "0.8033755825519535\n"
     ]
    }
   ],
   "source": [
    "best_boosting_fg = load(\"models/best_boosting_fg.joblib\")\n",
    "cv_boosting_fg = cross_val_score(estimator=best_boosting_fg, \n",
    "                                 X=X_train_fg[features_boosting_fg], y=y_train, \n",
    "                                 scoring=SCORE, \n",
    "                                 cv=5, \n",
    "                                 n_jobs=-1)\n",
    "print(\"* Модель:\\\n",
    "     \\n{}\\\n",
    "     \\n* {}_score на обучающей выборке:\\\n",
    "     \\nКросс-валидация\\\n",
    "     \\n{}\\\n",
    "     \\nСреднее значение\\\n",
    "     \\n{}\"\n",
    "      .format(best_boosting_fg,\n",
    "              SCORE,\n",
    "              cv_boosting_fg, \n",
    "              np.mean(cv_boosting_fg)))"
   ]
  },
  {
   "cell_type": "markdown",
   "id": "a10fca87-25f5-4cdd-a85b-e5856e25d652",
   "metadata": {},
   "source": [
    "Получим предсказание с использованием полученной модели градиентного бустинга"
   ]
  },
  {
   "cell_type": "code",
   "execution_count": 52,
   "id": "65bcb9e6-467a-42bd-851d-7197c50772ea",
   "metadata": {},
   "outputs": [],
   "source": [
    "sample_submission_5 = sample_submission.copy()\n",
    "sample_submission_5['cardio'] = best_boosting_fg.predict_proba(X_test_fg[features_boosting_fg])[:, 1]\n",
    "sample_submission_5.to_csv('datasets/sample_submission_5.csv', index=False)"
   ]
  },
  {
   "cell_type": "code",
   "execution_count": 53,
   "id": "baf0064a-2be9-4526-81aa-58cbfab372e4",
   "metadata": {},
   "outputs": [
    {
     "data": {
      "text/html": [
       "<div>\n",
       "<style scoped>\n",
       "    .dataframe tbody tr th:only-of-type {\n",
       "        vertical-align: middle;\n",
       "    }\n",
       "\n",
       "    .dataframe tbody tr th {\n",
       "        vertical-align: top;\n",
       "    }\n",
       "\n",
       "    .dataframe thead th {\n",
       "        text-align: right;\n",
       "    }\n",
       "</style>\n",
       "<table border=\"1\" class=\"dataframe\">\n",
       "  <thead>\n",
       "    <tr style=\"text-align: right;\">\n",
       "      <th></th>\n",
       "      <th>id</th>\n",
       "      <th>cardio</th>\n",
       "    </tr>\n",
       "  </thead>\n",
       "  <tbody>\n",
       "    <tr>\n",
       "      <th>0</th>\n",
       "      <td>5</td>\n",
       "      <td>0.464223</td>\n",
       "    </tr>\n",
       "    <tr>\n",
       "      <th>1</th>\n",
       "      <td>6</td>\n",
       "      <td>0.512024</td>\n",
       "    </tr>\n",
       "    <tr>\n",
       "      <th>2</th>\n",
       "      <td>7</td>\n",
       "      <td>0.424063</td>\n",
       "    </tr>\n",
       "    <tr>\n",
       "      <th>3</th>\n",
       "      <td>10</td>\n",
       "      <td>0.551453</td>\n",
       "    </tr>\n",
       "    <tr>\n",
       "      <th>4</th>\n",
       "      <td>11</td>\n",
       "      <td>0.217606</td>\n",
       "    </tr>\n",
       "  </tbody>\n",
       "</table>\n",
       "</div>"
      ],
      "text/plain": [
       "   id    cardio\n",
       "0   5  0.464223\n",
       "1   6  0.512024\n",
       "2   7  0.424063\n",
       "3  10  0.551453\n",
       "4  11  0.217606"
      ]
     },
     "execution_count": 53,
     "metadata": {},
     "output_type": "execute_result"
    }
   ],
   "source": [
    "pd.read_csv('datasets/sample_submission_5.csv').head()"
   ]
  },
  {
   "cell_type": "markdown",
   "id": "695a7132-11d1-42f4-b202-7e691884db43",
   "metadata": {},
   "source": [
    "Результат на тестовой выборке (Kaggle): 0.80930. Результат улучшился по сравнению с аналогичным подходом к исходному датасету."
   ]
  },
  {
   "cell_type": "markdown",
   "id": "ba5569c7-9eb4-40a6-9dc1-06f613513b16",
   "metadata": {},
   "source": [
    "Применим модель градиентного бустинга ко всем сгенерированным признакам без отбора."
   ]
  },
  {
   "cell_type": "code",
   "execution_count": 54,
   "id": "3fccddb1-2d8a-4be4-8040-6d720ed8f42d",
   "metadata": {},
   "outputs": [
    {
     "name": "stdout",
     "output_type": "stream",
     "text": [
      "Fitting 5 folds for each of 486 candidates, totalling 2430 fits\n",
      "Гиперпараметры лучшей модели\n",
      "{'learning_rate': 0.05, 'max_depth': 4, 'min_samples_leaf': 6, 'min_samples_split': 2, 'n_estimators': 200, 'subsample': 0.9}\n"
     ]
    }
   ],
   "source": [
    "params_boosting_fg_wfs = {'learning_rate': [0.01, 0.03, 0.05],\n",
    "                          'subsample': [0.8, 0.9, 1.0],\n",
    "                          'n_estimators': [100, 200, 300],\n",
    "                          'max_depth': [3, 4, 5],\n",
    "                          'min_samples_leaf': [5, 6, 7],\n",
    "                          'min_samples_split': [2, 3]}\n",
    "\n",
    "grid_boosting_fg_wfs = GridSearchCV(estimator=GradientBoostingClassifier(random_state=SEED),\n",
    "                                    param_grid=params_boosting_fg_wfs,\n",
    "                                    scoring=SCORE,\n",
    "                                    cv=5,\n",
    "                                    n_jobs=-1,\n",
    "                                    verbose=1)\n",
    "grid_boosting_fg_wfs.fit(X_train_fg, y_train)\n",
    "best_boosting_fg_wfs = grid_boosting_fg_wfs.best_estimator_\n",
    "dump(best_boosting_fg_wfs, \"models/best_boosting_fg_wfs.joblib\")\n",
    "\n",
    "print(\"Гиперпараметры лучшей модели\")\n",
    "print(grid_boosting_fg_wfs.best_params_)"
   ]
  },
  {
   "cell_type": "code",
   "execution_count": 55,
   "id": "de098b20-53a0-4885-8d11-c03d4a721718",
   "metadata": {},
   "outputs": [
    {
     "name": "stdout",
     "output_type": "stream",
     "text": [
      "* Модель:     \n",
      "GradientBoostingClassifier(learning_rate=0.05, max_depth=4, min_samples_leaf=6,\n",
      "                           n_estimators=200, random_state=12345, subsample=0.9)     \n",
      "* roc_auc_score на обучающей выборке:     \n",
      "Кросс-валидация     \n",
      "[0.79861254 0.80782471 0.80598926 0.80484469 0.79896529]     \n",
      "Среднее значение     \n",
      "0.8032472999783862\n"
     ]
    }
   ],
   "source": [
    "best_boosting_fg_wfs = load(\"models/best_boosting_fg_wfs.joblib\")\n",
    "cv_boosting_fg_wfs = cross_val_score(estimator=best_boosting_fg_wfs, \n",
    "                                     X=X_train_fg, y=y_train, \n",
    "                                     scoring=SCORE, \n",
    "                                     cv=5, \n",
    "                                     n_jobs=-1)\n",
    "print(\"* Модель:\\\n",
    "     \\n{}\\\n",
    "     \\n* {}_score на обучающей выборке:\\\n",
    "     \\nКросс-валидация\\\n",
    "     \\n{}\\\n",
    "     \\nСреднее значение\\\n",
    "     \\n{}\"\n",
    "      .format(best_boosting_fg_wfs,\n",
    "              SCORE,\n",
    "              cv_boosting_fg_wfs, \n",
    "              np.mean(cv_boosting_fg_wfs)))"
   ]
  }
 ],
 "metadata": {
  "editor": "DataCamp Workspace",
  "kernelspec": {
   "display_name": "Python 3 (ipykernel)",
   "language": "python",
   "name": "python3"
  },
  "language_info": {
   "codemirror_mode": {
    "name": "ipython",
    "version": 3
   },
   "file_extension": ".py",
   "mimetype": "text/x-python",
   "name": "python",
   "nbconvert_exporter": "python",
   "pygments_lexer": "ipython3",
   "version": "3.9.13"
  }
 },
 "nbformat": 4,
 "nbformat_minor": 5
}
